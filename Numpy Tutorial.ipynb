{
 "cells": [
  {
   "cell_type": "markdown",
   "id": "2ba16ab6",
   "metadata": {},
   "source": [
    "https://numpy.org/doc/stable/user/quickstart.html\n"
   ]
  },
  {
   "cell_type": "markdown",
   "id": "2ff696de",
   "metadata": {},
   "source": [
    "## Numpy\n",
    "\n",
    "Numpy, which stand for Numerical Python, it is a python package used for scientific computation. It allows users to perform fast operations related to mathematics, arrays, linear algebra, statistics and more. It is an efficient tool for shape manipulation, sorting, and selecting elements. \n"
   ]
  },
  {
   "cell_type": "markdown",
   "id": "63a093c7",
   "metadata": {},
   "source": [
    "### Numpy ndarray\n",
    "Reference:\n",
    "1- https://www.geeksforgeeks.org/difference-between-list-and-array-in-python/\n",
    "2- Vanderplas, Python Data Science Handbook: Tools and techniques for developers 2016\n",
    "\n",
    "- Numpy ndarray stands for N dimentional array, it is a class of Numpy's array which has attributes such as ndim, shape, size, dtype, itemsize, data\n",
    "- The elements inside the array are made of the same data type and with the same size in memory\n",
    "- Numpy array are fixed size when created, if one decided to change the size then a new array is created and the original is  deleted\n",
    "- It is possible to have arrays of objects, which can be made of different sized elements \n",
    "- While NumPy arrays share some similarities with Python's List container, they offer much more efficient storage and data handling experience when dealing with large set of data.\n",
    "- Difference between list and numpy array is that a List can contain elements of different size and data type\n",
    "- Mathematical operations cannot be directly performed with List\n",
    "- No Looping is required to print out the entire List\n"
   ]
  },
  {
   "cell_type": "markdown",
   "id": "7f37d922",
   "metadata": {},
   "source": [
    "### Creating Array"
   ]
  },
  {
   "cell_type": "code",
   "execution_count": 2,
   "id": "11457429",
   "metadata": {},
   "outputs": [],
   "source": [
    "import numpy as np"
   ]
  },
  {
   "cell_type": "code",
   "execution_count": 3,
   "id": "8a72fe75",
   "metadata": {},
   "outputs": [
    {
     "data": {
      "text/plain": [
       "array([1, 2, 3, 4, 5, 6, 7, 8, 9])"
      ]
     },
     "execution_count": 3,
     "metadata": {},
     "output_type": "execute_result"
    }
   ],
   "source": [
    "#Creating an array using Range()\n",
    "a = np.array(range(1,10))\n",
    "a"
   ]
  },
  {
   "cell_type": "code",
   "execution_count": 52,
   "id": "fd17393b",
   "metadata": {},
   "outputs": [
    {
     "data": {
      "text/plain": [
       "array([[[1, 5, 0, 1, 4],\n",
       "        [3, 0, 3, 5, 0],\n",
       "        [2, 3, 0, 1, 3],\n",
       "        [5, 3, 3, 0, 1]],\n",
       "\n",
       "       [[1, 1, 0, 2, 4],\n",
       "        [3, 3, 2, 4, 2],\n",
       "        [0, 0, 4, 5, 5],\n",
       "        [0, 4, 1, 4, 1]],\n",
       "\n",
       "       [[2, 2, 0, 1, 1],\n",
       "        [1, 1, 3, 3, 2],\n",
       "        [3, 0, 3, 5, 4],\n",
       "        [1, 2, 4, 3, 4]]])"
      ]
     },
     "execution_count": 52,
     "metadata": {},
     "output_type": "execute_result"
    }
   ],
   "source": [
    "# Creating an array using Numpy random number generator\n",
    "\n",
    "np.random.seed(0) # same random number is generated when the code is run\n",
    "a2 = np.random.randint(6, size = 7)\n",
    "a3 = np.random.randint(6, size = (3,4))\n",
    "a4 = np.random.randint(6, size = (3,4,5))\n",
    "a4"
   ]
  },
  {
   "cell_type": "code",
   "execution_count": 53,
   "id": "55325b23",
   "metadata": {},
   "outputs": [
    {
     "data": {
      "text/plain": [
       "array([3, 4, 5, 8])"
      ]
     },
     "execution_count": 53,
     "metadata": {},
     "output_type": "execute_result"
    }
   ],
   "source": [
    "# Creating an array using list\n",
    "x = np.array([3, 4, 5, 8])\n",
    "x"
   ]
  },
  {
   "cell_type": "markdown",
   "id": "d2053002",
   "metadata": {},
   "source": [
    "### Array Attributes"
   ]
  },
  {
   "attachments": {},
   "cell_type": "markdown",
   "id": "56d6071a",
   "metadata": {},
   "source": [
    "- Dtypes Attribute: Arrays can have a variety of data types, as shown in the table below. The dtype keyword identifies the type of data the array contains. \n",
    "- Ndim: represent the number of dimensions, it can one or multi-dimensional array\n",
    "- Shape: it is shown by a tuple of integers, which indicate the number of rows and columns.\n",
    "- Size: represents the total number of elements in an array, which is the product of the elements of shape. \n",
    "- Itemsize: The size in bytes of each element in an array"
   ]
  },
  {
   "cell_type": "code",
   "execution_count": 62,
   "id": "5117c70b",
   "metadata": {},
   "outputs": [
    {
     "data": {
      "text/plain": [
       "array([[[1, 5, 0, 1, 4],\n",
       "        [3, 0, 3, 5, 0],\n",
       "        [2, 3, 0, 1, 3],\n",
       "        [5, 3, 3, 0, 1]],\n",
       "\n",
       "       [[1, 1, 0, 2, 4],\n",
       "        [3, 3, 2, 4, 2],\n",
       "        [0, 0, 4, 5, 5],\n",
       "        [0, 4, 1, 4, 1]],\n",
       "\n",
       "       [[2, 2, 0, 1, 1],\n",
       "        [1, 1, 3, 3, 2],\n",
       "        [3, 0, 3, 5, 4],\n",
       "        [1, 2, 4, 3, 4]]])"
      ]
     },
     "execution_count": 62,
     "metadata": {},
     "output_type": "execute_result"
    }
   ],
   "source": [
    "a4"
   ]
  },
  {
   "cell_type": "code",
   "execution_count": 63,
   "id": "33886a6e",
   "metadata": {},
   "outputs": [
    {
     "data": {
      "text/plain": [
       "dtype('int32')"
      ]
     },
     "execution_count": 63,
     "metadata": {},
     "output_type": "execute_result"
    }
   ],
   "source": [
    "a4.dtype"
   ]
  },
  {
   "cell_type": "code",
   "execution_count": 64,
   "id": "64f7d189",
   "metadata": {},
   "outputs": [
    {
     "data": {
      "text/plain": [
       "3"
      ]
     },
     "execution_count": 64,
     "metadata": {},
     "output_type": "execute_result"
    }
   ],
   "source": [
    "a4.ndim"
   ]
  },
  {
   "cell_type": "code",
   "execution_count": 65,
   "id": "05102045",
   "metadata": {},
   "outputs": [
    {
     "data": {
      "text/plain": [
       "(3, 4, 5)"
      ]
     },
     "execution_count": 65,
     "metadata": {},
     "output_type": "execute_result"
    }
   ],
   "source": [
    "a4.shape"
   ]
  },
  {
   "cell_type": "code",
   "execution_count": 66,
   "id": "84685e66",
   "metadata": {},
   "outputs": [
    {
     "data": {
      "text/plain": [
       "60"
      ]
     },
     "execution_count": 66,
     "metadata": {},
     "output_type": "execute_result"
    }
   ],
   "source": [
    "a4.size"
   ]
  },
  {
   "cell_type": "code",
   "execution_count": 67,
   "id": "e8e7b414",
   "metadata": {},
   "outputs": [
    {
     "data": {
      "text/plain": [
       "4"
      ]
     },
     "execution_count": 67,
     "metadata": {},
     "output_type": "execute_result"
    }
   ],
   "source": [
    "a4.itemsize"
   ]
  },
  {
   "cell_type": "code",
   "execution_count": 68,
   "id": "7cc84f61",
   "metadata": {},
   "outputs": [
    {
     "data": {
      "text/plain": [
       "array([1.1, 3. , 4. , 8. ])"
      ]
     },
     "execution_count": 68,
     "metadata": {},
     "output_type": "execute_result"
    }
   ],
   "source": [
    "# As arrays can only be made of the same data type, when they are made from different types of data, Numpy upcasts whenever it is possible, \n",
    "# meaning it will convert the type for consistency purposes. In the example below, the original list the type was mixed of float and int\n",
    "# the output is float only. \n",
    "\n",
    "x1 = np.array([1.1 ,3 , 4, 8])\n",
    "x1"
   ]
  },
  {
   "cell_type": "markdown",
   "id": "d095b5a0",
   "metadata": {},
   "source": [
    "### Indexing"
   ]
  },
  {
   "cell_type": "code",
   "execution_count": 69,
   "id": "5c6e0404",
   "metadata": {},
   "outputs": [
    {
     "data": {
      "text/plain": [
       "array([1, 2, 3, 4, 5, 6, 7, 8, 9])"
      ]
     },
     "execution_count": 69,
     "metadata": {},
     "output_type": "execute_result"
    }
   ],
   "source": [
    "a"
   ]
  },
  {
   "cell_type": "code",
   "execution_count": 71,
   "id": "276ab8d5",
   "metadata": {},
   "outputs": [
    {
     "data": {
      "text/plain": [
       "1"
      ]
     },
     "execution_count": 71,
     "metadata": {},
     "output_type": "execute_result"
    }
   ],
   "source": [
    "a[0] # the first element of a"
   ]
  },
  {
   "cell_type": "code",
   "execution_count": 72,
   "id": "2289c2f4",
   "metadata": {},
   "outputs": [
    {
     "data": {
      "text/plain": [
       "6"
      ]
     },
     "execution_count": 72,
     "metadata": {},
     "output_type": "execute_result"
    }
   ],
   "source": [
    "a[5] # the sixth element"
   ]
  },
  {
   "cell_type": "code",
   "execution_count": 74,
   "id": "a4c36502",
   "metadata": {},
   "outputs": [
    {
     "data": {
      "text/plain": [
       "9"
      ]
     },
     "execution_count": 74,
     "metadata": {},
     "output_type": "execute_result"
    }
   ],
   "source": [
    "a[-1] # the last element"
   ]
  },
  {
   "cell_type": "code",
   "execution_count": 75,
   "id": "60ccca36",
   "metadata": {},
   "outputs": [
    {
     "data": {
      "text/plain": [
       "7"
      ]
     },
     "execution_count": 75,
     "metadata": {},
     "output_type": "execute_result"
    }
   ],
   "source": [
    "a[-3] # the third last"
   ]
  },
  {
   "cell_type": "code",
   "execution_count": 78,
   "id": "911525b7",
   "metadata": {},
   "outputs": [
    {
     "data": {
      "text/plain": [
       "array([[3, 5, 2, 4],\n",
       "       [0, 0, 4, 2],\n",
       "       [1, 0, 1, 5]])"
      ]
     },
     "execution_count": 78,
     "metadata": {},
     "output_type": "execute_result"
    }
   ],
   "source": [
    "# In case of higher dimension array ',' seperates the rows and columns\n",
    "\n",
    "a3"
   ]
  },
  {
   "cell_type": "code",
   "execution_count": 79,
   "id": "231e9e71",
   "metadata": {},
   "outputs": [
    {
     "data": {
      "text/plain": [
       "3"
      ]
     },
     "execution_count": 79,
     "metadata": {},
     "output_type": "execute_result"
    }
   ],
   "source": [
    "a3[0,0] # Selects the value in first row and first column"
   ]
  },
  {
   "cell_type": "code",
   "execution_count": 80,
   "id": "e9fd20a9",
   "metadata": {},
   "outputs": [
    {
     "data": {
      "text/plain": [
       "2"
      ]
     },
     "execution_count": 80,
     "metadata": {},
     "output_type": "execute_result"
    }
   ],
   "source": [
    "a3[1,3] # selects the value in second row and fourth colum"
   ]
  },
  {
   "cell_type": "code",
   "execution_count": 82,
   "id": "668fe333",
   "metadata": {},
   "outputs": [
    {
     "data": {
      "text/plain": [
       "5"
      ]
     },
     "execution_count": 82,
     "metadata": {},
     "output_type": "execute_result"
    }
   ],
   "source": [
    "a3[2,3] # selects the value in third row and fourth colum"
   ]
  },
  {
   "cell_type": "code",
   "execution_count": 83,
   "id": "855ef2c3",
   "metadata": {},
   "outputs": [
    {
     "data": {
      "text/plain": [
       "5"
      ]
     },
     "execution_count": 83,
     "metadata": {},
     "output_type": "execute_result"
    }
   ],
   "source": [
    "a3[2,-1] # same result as the above, since -1 represent the last column"
   ]
  },
  {
   "cell_type": "markdown",
   "id": "792b63e6",
   "metadata": {},
   "source": [
    "### Slicing"
   ]
  },
  {
   "cell_type": "code",
   "execution_count": 84,
   "id": "0c347988",
   "metadata": {},
   "outputs": [
    {
     "data": {
      "text/plain": [
       "array([1, 2, 3, 4, 5, 6, 7, 8, 9])"
      ]
     },
     "execution_count": 84,
     "metadata": {},
     "output_type": "execute_result"
    }
   ],
   "source": [
    "a"
   ]
  },
  {
   "cell_type": "code",
   "execution_count": 85,
   "id": "fcea72ac",
   "metadata": {},
   "outputs": [
    {
     "data": {
      "text/plain": [
       "array([1, 2, 3, 4, 5, 6, 7, 8, 9])"
      ]
     },
     "execution_count": 85,
     "metadata": {},
     "output_type": "execute_result"
    }
   ],
   "source": [
    "# a[start:stop:step]\n",
    "# start is the starting index\n",
    "# stop is stopping index\n",
    "# step is the step in between, which starts at 1\n",
    "a[::1]"
   ]
  },
  {
   "cell_type": "code",
   "execution_count": 8,
   "id": "1a998ce9",
   "metadata": {},
   "outputs": [
    {
     "data": {
      "text/plain": [
       "array([1, 3, 5, 7, 9])"
      ]
     },
     "execution_count": 8,
     "metadata": {},
     "output_type": "execute_result"
    }
   ],
   "source": [
    "a[::2] # Selecting every other element"
   ]
  },
  {
   "cell_type": "code",
   "execution_count": 17,
   "id": "59caf776",
   "metadata": {},
   "outputs": [
    {
     "data": {
      "text/plain": [
       "array([9, 8, 7, 6, 5, 4, 3, 2, 1])"
      ]
     },
     "execution_count": 17,
     "metadata": {},
     "output_type": "execute_result"
    }
   ],
   "source": [
    "# The elements are reversed, meaning it starts at the end all the way to the first element, \n",
    "# Negative indices are interpreted as counting from the end of the array\n",
    "\n",
    "a[::-1] "
   ]
  },
  {
   "cell_type": "code",
   "execution_count": 10,
   "id": "898ae6bb",
   "metadata": {},
   "outputs": [
    {
     "data": {
      "text/plain": [
       "array([7, 6, 5, 4, 3, 2, 1])"
      ]
     },
     "execution_count": 10,
     "metadata": {},
     "output_type": "execute_result"
    }
   ],
   "source": [
    "a[6::-1] # Starting at 7th element, it goes down by 1"
   ]
  },
  {
   "cell_type": "code",
   "execution_count": 11,
   "id": "878d002e",
   "metadata": {},
   "outputs": [
    {
     "data": {
      "text/plain": [
       "array([7, 8, 9])"
      ]
     },
     "execution_count": 11,
     "metadata": {},
     "output_type": "execute_result"
    }
   ],
   "source": [
    "a[-3:10] # Starting at the third last element and move up by one "
   ]
  },
  {
   "cell_type": "code",
   "execution_count": 12,
   "id": "8bdcf420",
   "metadata": {},
   "outputs": [
    {
     "data": {
      "text/plain": [
       "array([8, 7, 6])"
      ]
     },
     "execution_count": 12,
     "metadata": {},
     "output_type": "execute_result"
    }
   ],
   "source": [
    "a[-2:4:-1] # Starting at the second last element goes down by one until the fifth element(which is not included)"
   ]
  },
  {
   "cell_type": "markdown",
   "id": "be650a1b",
   "metadata": {},
   "source": [
    "### Slicing Two Dimentional Array"
   ]
  },
  {
   "cell_type": "code",
   "execution_count": 16,
   "id": "7a66400e",
   "metadata": {},
   "outputs": [
    {
     "data": {
      "text/plain": [
       "array([[1, 2, 3],\n",
       "       [4, 5, 6]])"
      ]
     },
     "execution_count": 16,
     "metadata": {},
     "output_type": "execute_result"
    }
   ],
   "source": [
    "x = np.array([[1,2,3], [4,5,6]])\n",
    "x"
   ]
  },
  {
   "cell_type": "code",
   "execution_count": 91,
   "id": "a7ff7913",
   "metadata": {},
   "outputs": [
    {
     "data": {
      "text/plain": [
       "array([1, 2, 3])"
      ]
     },
     "execution_count": 91,
     "metadata": {},
     "output_type": "execute_result"
    }
   ],
   "source": [
    "x = np.array([1, 2, 3])\n",
    "# row vector via reshape\n",
    "#x.reshape((1, 3))\n",
    "x"
   ]
  },
  {
   "cell_type": "code",
   "execution_count": 92,
   "id": "c15568be",
   "metadata": {},
   "outputs": [
    {
     "data": {
      "text/plain": [
       "(3,)"
      ]
     },
     "execution_count": 92,
     "metadata": {},
     "output_type": "execute_result"
    }
   ],
   "source": [
    "x.shape"
   ]
  },
  {
   "cell_type": "code",
   "execution_count": 95,
   "id": "5f2dedb1",
   "metadata": {},
   "outputs": [
    {
     "data": {
      "text/plain": [
       "array([[1, 2, 3]])"
      ]
     },
     "execution_count": 95,
     "metadata": {},
     "output_type": "execute_result"
    }
   ],
   "source": [
    "x[np.newaxis,:]"
   ]
  },
  {
   "cell_type": "code",
   "execution_count": 96,
   "id": "ca673021",
   "metadata": {},
   "outputs": [
    {
     "data": {
      "text/plain": [
       "array([[1],\n",
       "       [2],\n",
       "       [3]])"
      ]
     },
     "execution_count": 96,
     "metadata": {},
     "output_type": "execute_result"
    }
   ],
   "source": [
    "x[:,np.newaxis]"
   ]
  },
  {
   "cell_type": "code",
   "execution_count": null,
   "id": "e0905638",
   "metadata": {},
   "outputs": [],
   "source": []
  }
 ],
 "metadata": {
  "kernelspec": {
   "display_name": "Python 3",
   "language": "python",
   "name": "python3"
  },
  "language_info": {
   "codemirror_mode": {
    "name": "ipython",
    "version": 3
   },
   "file_extension": ".py",
   "mimetype": "text/x-python",
   "name": "python",
   "nbconvert_exporter": "python",
   "pygments_lexer": "ipython3",
   "version": "3.8.8"
  }
 },
 "nbformat": 4,
 "nbformat_minor": 5
}
