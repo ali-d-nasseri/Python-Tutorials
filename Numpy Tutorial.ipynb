{
 "cells": [
  {
   "cell_type": "markdown",
   "id": "2ba16ab6",
   "metadata": {},
   "source": [
    "https://numpy.org/doc/stable/user/quickstart.html\n"
   ]
  },
  {
   "cell_type": "markdown",
   "id": "2ff696de",
   "metadata": {},
   "source": [
    "## Numpy\n",
    "\n",
    "Numpy, which stand for Numerical Python, it is a python package used for scientific computation. It allows users to perform fast operations related to mathematics, arrays, linear algebra, statistics and more. It is an efficient tool for shape manipulation, sorting, and selecting elements. \n"
   ]
  },
  {
   "cell_type": "markdown",
   "id": "63a093c7",
   "metadata": {},
   "source": [
    "### Numpy ndarray\n",
    "Reference:\n",
    "\n",
    "    1- https://www.geeksforgeeks.org/difference-between-list-and-array-in-python/ \n",
    "    2- Vanderplas, Python Data Science Handbook: Tools and techniques for developers 2016\n",
    "\n",
    "- Numpy ndarray stands for N dimentional array, it is a class of Numpy's array which has attributes such as ndim, shape, size, dtype, itemsize, data\n",
    "- The elements inside the array are made of the same data type and with the same size in memory\n",
    "- Numpy array are fixed size when created, if one decided to change the size then a new array is created and the original is  deleted\n",
    "- It is possible to have arrays of objects, which can be made of different sized elements \n",
    "- While NumPy arrays share some similarities with Python's List container, they offer much more efficient storage and data handling experience when dealing with large set of data.\n",
    "- Difference between list and numpy array is that a List can contain elements of different size and data type\n",
    "- Mathematical operations cannot be directly performed with List\n",
    "- No Looping is required to print out the entire List\n",
    "- In List slices are copies and array slices are views\n"
   ]
  },
  {
   "cell_type": "markdown",
   "id": "7f37d922",
   "metadata": {},
   "source": [
    "### Creating Array"
   ]
  },
  {
   "cell_type": "code",
   "execution_count": 2,
   "id": "11457429",
   "metadata": {},
   "outputs": [],
   "source": [
    "import numpy as np"
   ]
  },
  {
   "cell_type": "code",
   "execution_count": 3,
   "id": "8a72fe75",
   "metadata": {},
   "outputs": [
    {
     "data": {
      "text/plain": [
       "array([1, 2, 3, 4, 5, 6, 7, 8, 9])"
      ]
     },
     "execution_count": 3,
     "metadata": {},
     "output_type": "execute_result"
    }
   ],
   "source": [
    "#Creating an array using Range()\n",
    "a = np.array(range(1,10))\n",
    "a"
   ]
  },
  {
   "cell_type": "code",
   "execution_count": 4,
   "id": "fd17393b",
   "metadata": {},
   "outputs": [
    {
     "data": {
      "text/plain": [
       "array([[[1, 5, 0, 1, 4],\n",
       "        [3, 0, 3, 5, 0],\n",
       "        [2, 3, 0, 1, 3],\n",
       "        [5, 3, 3, 0, 1]],\n",
       "\n",
       "       [[1, 1, 0, 2, 4],\n",
       "        [3, 3, 2, 4, 2],\n",
       "        [0, 0, 4, 5, 5],\n",
       "        [0, 4, 1, 4, 1]],\n",
       "\n",
       "       [[2, 2, 0, 1, 1],\n",
       "        [1, 1, 3, 3, 2],\n",
       "        [3, 0, 3, 5, 4],\n",
       "        [1, 2, 4, 3, 4]]])"
      ]
     },
     "execution_count": 4,
     "metadata": {},
     "output_type": "execute_result"
    }
   ],
   "source": [
    "# Creating an array using Numpy random number generator\n",
    "\n",
    "np.random.seed(0) # same random number is generated when the code is run\n",
    "a2 = np.random.randint(6, size = 7)\n",
    "a3 = np.random.randint(6, size = (3,4))\n",
    "a4 = np.random.randint(6, size = (3,4,5))\n",
    "a4"
   ]
  },
  {
   "cell_type": "code",
   "execution_count": 5,
   "id": "55325b23",
   "metadata": {},
   "outputs": [
    {
     "data": {
      "text/plain": [
       "array([3, 4, 5, 8])"
      ]
     },
     "execution_count": 5,
     "metadata": {},
     "output_type": "execute_result"
    }
   ],
   "source": [
    "# Creating an array using list\n",
    "x = np.array([3, 4, 5, 8])\n",
    "x"
   ]
  },
  {
   "cell_type": "code",
   "execution_count": 6,
   "id": "233440f7",
   "metadata": {},
   "outputs": [
    {
     "name": "stdout",
     "output_type": "stream",
     "text": [
      "[0. 0. 0. 0. 0. 0.]\n",
      "\n",
      "\n",
      "[[0. 0. 0. 0.]\n",
      " [0. 0. 0. 0.]\n",
      " [0. 0. 0. 0.]]\n"
     ]
    }
   ],
   "source": [
    "# Creating arrays of zeros with zero() function\n",
    "a_zero = np.zeros(6) # 1-dimensional array of zero\n",
    "print(a_zero)\n",
    "print('\\n')\n",
    "a2_zero = np.zeros((3,4)) # 2-dimensional array of zero\n",
    "print(a2_zero)"
   ]
  },
  {
   "cell_type": "code",
   "execution_count": 7,
   "id": "9e250731",
   "metadata": {},
   "outputs": [
    {
     "name": "stdout",
     "output_type": "stream",
     "text": [
      "[1. 1. 1. 1. 1. 1.]\n",
      "\n",
      "\n",
      "[[1. 1. 1. 1. 1.]\n",
      " [1. 1. 1. 1. 1.]\n",
      " [1. 1. 1. 1. 1.]\n",
      " [1. 1. 1. 1. 1.]]\n"
     ]
    }
   ],
   "source": [
    "# Creating arrays of ones using ones() function\n",
    "\n",
    "a_ones = np.ones(6)\n",
    "a2_ones = np.ones((4,5))\n",
    "print(a_ones)\n",
    "print('\\n')\n",
    "print(a2_ones)"
   ]
  },
  {
   "cell_type": "code",
   "execution_count": 8,
   "id": "c8c2d3c1",
   "metadata": {},
   "outputs": [
    {
     "data": {
      "text/plain": [
       "array([[1., 0., 0.],\n",
       "       [0., 1., 0.],\n",
       "       [0., 0., 1.]])"
      ]
     },
     "execution_count": 8,
     "metadata": {},
     "output_type": "execute_result"
    }
   ],
   "source": [
    "# Creating an eye array with eye() function\n",
    "\n",
    "eye= np.eye(3)\n",
    "eye"
   ]
  },
  {
   "cell_type": "code",
   "execution_count": null,
   "id": "9a28612f",
   "metadata": {},
   "outputs": [],
   "source": []
  },
  {
   "cell_type": "code",
   "execution_count": null,
   "id": "ded82e34",
   "metadata": {},
   "outputs": [],
   "source": []
  },
  {
   "cell_type": "markdown",
   "id": "d2053002",
   "metadata": {},
   "source": [
    "### Array Attributes"
   ]
  },
  {
   "cell_type": "markdown",
   "id": "56d6071a",
   "metadata": {},
   "source": [
    "- Dtypes Attribute: Arrays can have a variety of data types, as shown in the table below. The dtype keyword identifies the type of data the array contains. \n",
    "- Ndim: represent the number of dimensions, it can one or multi-dimensional array\n",
    "- Shape: it is shown by a tuple of integers, which indicate the number of rows and columns.\n",
    "- Size: represents the total number of elements in an array, which is the product of the elements of shape. \n",
    "- Itemsize: The size in bytes of each element in an array"
   ]
  },
  {
   "cell_type": "code",
   "execution_count": 9,
   "id": "5117c70b",
   "metadata": {},
   "outputs": [
    {
     "data": {
      "text/plain": [
       "array([[[1, 5, 0, 1, 4],\n",
       "        [3, 0, 3, 5, 0],\n",
       "        [2, 3, 0, 1, 3],\n",
       "        [5, 3, 3, 0, 1]],\n",
       "\n",
       "       [[1, 1, 0, 2, 4],\n",
       "        [3, 3, 2, 4, 2],\n",
       "        [0, 0, 4, 5, 5],\n",
       "        [0, 4, 1, 4, 1]],\n",
       "\n",
       "       [[2, 2, 0, 1, 1],\n",
       "        [1, 1, 3, 3, 2],\n",
       "        [3, 0, 3, 5, 4],\n",
       "        [1, 2, 4, 3, 4]]])"
      ]
     },
     "execution_count": 9,
     "metadata": {},
     "output_type": "execute_result"
    }
   ],
   "source": [
    "a4"
   ]
  },
  {
   "cell_type": "code",
   "execution_count": 10,
   "id": "33886a6e",
   "metadata": {},
   "outputs": [
    {
     "data": {
      "text/plain": [
       "dtype('int32')"
      ]
     },
     "execution_count": 10,
     "metadata": {},
     "output_type": "execute_result"
    }
   ],
   "source": [
    "a4.dtype"
   ]
  },
  {
   "cell_type": "code",
   "execution_count": 11,
   "id": "64f7d189",
   "metadata": {},
   "outputs": [
    {
     "data": {
      "text/plain": [
       "3"
      ]
     },
     "execution_count": 11,
     "metadata": {},
     "output_type": "execute_result"
    }
   ],
   "source": [
    "a4.ndim"
   ]
  },
  {
   "cell_type": "code",
   "execution_count": 12,
   "id": "05102045",
   "metadata": {},
   "outputs": [
    {
     "data": {
      "text/plain": [
       "(3, 4, 5)"
      ]
     },
     "execution_count": 12,
     "metadata": {},
     "output_type": "execute_result"
    }
   ],
   "source": [
    "a4.shape"
   ]
  },
  {
   "cell_type": "code",
   "execution_count": 13,
   "id": "84685e66",
   "metadata": {},
   "outputs": [
    {
     "data": {
      "text/plain": [
       "60"
      ]
     },
     "execution_count": 13,
     "metadata": {},
     "output_type": "execute_result"
    }
   ],
   "source": [
    "a4.size"
   ]
  },
  {
   "cell_type": "code",
   "execution_count": 14,
   "id": "e8e7b414",
   "metadata": {},
   "outputs": [
    {
     "data": {
      "text/plain": [
       "4"
      ]
     },
     "execution_count": 14,
     "metadata": {},
     "output_type": "execute_result"
    }
   ],
   "source": [
    "a4.itemsize"
   ]
  },
  {
   "cell_type": "code",
   "execution_count": 15,
   "id": "7cc84f61",
   "metadata": {},
   "outputs": [
    {
     "data": {
      "text/plain": [
       "array([1.1, 3. , 4. , 8. ])"
      ]
     },
     "execution_count": 15,
     "metadata": {},
     "output_type": "execute_result"
    }
   ],
   "source": [
    "# As arrays can only be made of the same data type, when they are made from different types of data, Numpy upcasts whenever it is possible, \n",
    "# meaning it will convert the type for consistency purposes. In the example below, the original list the type was mixed of float and int\n",
    "# the output is float only. \n",
    "\n",
    "x1 = np.array([1.1 ,3 , 4, 8])\n",
    "x1"
   ]
  },
  {
   "cell_type": "markdown",
   "id": "d095b5a0",
   "metadata": {},
   "source": [
    "### Indexing"
   ]
  },
  {
   "cell_type": "code",
   "execution_count": 16,
   "id": "5c6e0404",
   "metadata": {},
   "outputs": [
    {
     "data": {
      "text/plain": [
       "array([1, 2, 3, 4, 5, 6, 7, 8, 9])"
      ]
     },
     "execution_count": 16,
     "metadata": {},
     "output_type": "execute_result"
    }
   ],
   "source": [
    "a"
   ]
  },
  {
   "cell_type": "code",
   "execution_count": 17,
   "id": "276ab8d5",
   "metadata": {},
   "outputs": [
    {
     "data": {
      "text/plain": [
       "1"
      ]
     },
     "execution_count": 17,
     "metadata": {},
     "output_type": "execute_result"
    }
   ],
   "source": [
    "a[0] # the first element of a"
   ]
  },
  {
   "cell_type": "code",
   "execution_count": 18,
   "id": "2289c2f4",
   "metadata": {},
   "outputs": [
    {
     "data": {
      "text/plain": [
       "6"
      ]
     },
     "execution_count": 18,
     "metadata": {},
     "output_type": "execute_result"
    }
   ],
   "source": [
    "a[5] # the sixth element"
   ]
  },
  {
   "cell_type": "code",
   "execution_count": 19,
   "id": "a4c36502",
   "metadata": {},
   "outputs": [
    {
     "data": {
      "text/plain": [
       "9"
      ]
     },
     "execution_count": 19,
     "metadata": {},
     "output_type": "execute_result"
    }
   ],
   "source": [
    "a[-1] # the last element"
   ]
  },
  {
   "cell_type": "code",
   "execution_count": 20,
   "id": "60ccca36",
   "metadata": {},
   "outputs": [
    {
     "data": {
      "text/plain": [
       "7"
      ]
     },
     "execution_count": 20,
     "metadata": {},
     "output_type": "execute_result"
    }
   ],
   "source": [
    "a[-3] # the third last"
   ]
  },
  {
   "cell_type": "code",
   "execution_count": 21,
   "id": "911525b7",
   "metadata": {},
   "outputs": [
    {
     "data": {
      "text/plain": [
       "array([[3, 5, 2, 4],\n",
       "       [0, 0, 4, 2],\n",
       "       [1, 0, 1, 5]])"
      ]
     },
     "execution_count": 21,
     "metadata": {},
     "output_type": "execute_result"
    }
   ],
   "source": [
    "# In case of higher dimension array ',' seperates the rows and columns\n",
    "\n",
    "a3"
   ]
  },
  {
   "cell_type": "code",
   "execution_count": 22,
   "id": "231e9e71",
   "metadata": {},
   "outputs": [
    {
     "data": {
      "text/plain": [
       "3"
      ]
     },
     "execution_count": 22,
     "metadata": {},
     "output_type": "execute_result"
    }
   ],
   "source": [
    "a3[0,0] # Selects the value in first row and first column"
   ]
  },
  {
   "cell_type": "code",
   "execution_count": 23,
   "id": "e9fd20a9",
   "metadata": {},
   "outputs": [
    {
     "data": {
      "text/plain": [
       "2"
      ]
     },
     "execution_count": 23,
     "metadata": {},
     "output_type": "execute_result"
    }
   ],
   "source": [
    "a3[1,3] # selects the value in second row and fourth colum"
   ]
  },
  {
   "cell_type": "code",
   "execution_count": 24,
   "id": "668fe333",
   "metadata": {},
   "outputs": [
    {
     "data": {
      "text/plain": [
       "5"
      ]
     },
     "execution_count": 24,
     "metadata": {},
     "output_type": "execute_result"
    }
   ],
   "source": [
    "a3[2,3] # selects the value in third row and fourth colum"
   ]
  },
  {
   "cell_type": "code",
   "execution_count": 25,
   "id": "855ef2c3",
   "metadata": {},
   "outputs": [
    {
     "data": {
      "text/plain": [
       "5"
      ]
     },
     "execution_count": 25,
     "metadata": {},
     "output_type": "execute_result"
    }
   ],
   "source": [
    "a3[2,-1] # same result as the above, since -1 represent the last column"
   ]
  },
  {
   "cell_type": "markdown",
   "id": "792b63e6",
   "metadata": {},
   "source": [
    "### Slicing"
   ]
  },
  {
   "cell_type": "code",
   "execution_count": 26,
   "id": "0c347988",
   "metadata": {},
   "outputs": [
    {
     "data": {
      "text/plain": [
       "array([1, 2, 3, 4, 5, 6, 7, 8, 9])"
      ]
     },
     "execution_count": 26,
     "metadata": {},
     "output_type": "execute_result"
    }
   ],
   "source": [
    "a"
   ]
  },
  {
   "cell_type": "code",
   "execution_count": 27,
   "id": "fcea72ac",
   "metadata": {},
   "outputs": [
    {
     "data": {
      "text/plain": [
       "array([1, 2, 3, 4, 5, 6, 7, 8, 9])"
      ]
     },
     "execution_count": 27,
     "metadata": {},
     "output_type": "execute_result"
    }
   ],
   "source": [
    "# a[start:stop:step]\n",
    "# start is the starting index\n",
    "# stop is stopping index\n",
    "# step is the step in between, which starts at 1\n",
    "a[::1]"
   ]
  },
  {
   "cell_type": "code",
   "execution_count": 28,
   "id": "1a998ce9",
   "metadata": {},
   "outputs": [
    {
     "data": {
      "text/plain": [
       "array([1, 3, 5, 7, 9])"
      ]
     },
     "execution_count": 28,
     "metadata": {},
     "output_type": "execute_result"
    }
   ],
   "source": [
    "a[::2] # Selecting every other element"
   ]
  },
  {
   "cell_type": "code",
   "execution_count": 29,
   "id": "59caf776",
   "metadata": {},
   "outputs": [
    {
     "data": {
      "text/plain": [
       "array([9, 8, 7, 6, 5, 4, 3, 2, 1])"
      ]
     },
     "execution_count": 29,
     "metadata": {},
     "output_type": "execute_result"
    }
   ],
   "source": [
    "# The elements are reversed, meaning it starts at the end all the way to the first element, \n",
    "# Negative indices are interpreted as counting from the end of the array\n",
    "\n",
    "a[::-1] "
   ]
  },
  {
   "cell_type": "code",
   "execution_count": 30,
   "id": "898ae6bb",
   "metadata": {},
   "outputs": [
    {
     "data": {
      "text/plain": [
       "array([7, 6, 5, 4, 3, 2, 1])"
      ]
     },
     "execution_count": 30,
     "metadata": {},
     "output_type": "execute_result"
    }
   ],
   "source": [
    "a[6::-1] # Starting at 7th element, it goes down by 1"
   ]
  },
  {
   "cell_type": "code",
   "execution_count": 31,
   "id": "878d002e",
   "metadata": {},
   "outputs": [
    {
     "data": {
      "text/plain": [
       "array([7, 8, 9])"
      ]
     },
     "execution_count": 31,
     "metadata": {},
     "output_type": "execute_result"
    }
   ],
   "source": [
    "a[-3:10] # Starting at the third last element and move up by one "
   ]
  },
  {
   "cell_type": "code",
   "execution_count": 32,
   "id": "8bdcf420",
   "metadata": {},
   "outputs": [
    {
     "data": {
      "text/plain": [
       "array([8, 7, 6])"
      ]
     },
     "execution_count": 32,
     "metadata": {},
     "output_type": "execute_result"
    }
   ],
   "source": [
    "a[-2:4:-1] # Starting at the second last element goes down by one until the fifth element(which is not included)"
   ]
  },
  {
   "cell_type": "markdown",
   "id": "be650a1b",
   "metadata": {},
   "source": [
    "### Slicing Multidimentional Array"
   ]
  },
  {
   "cell_type": "code",
   "execution_count": 33,
   "id": "7a66400e",
   "metadata": {},
   "outputs": [
    {
     "data": {
      "text/plain": [
       "array([[ 1,  2,  3],\n",
       "       [ 4,  5,  6],\n",
       "       [ 7,  8,  9],\n",
       "       [10, 11, 12]])"
      ]
     },
     "execution_count": 33,
     "metadata": {},
     "output_type": "execute_result"
    }
   ],
   "source": [
    "x = np.array([[1,2,3], [4,5,6],[7,8,9],[10,11,12]])\n",
    "x"
   ]
  },
  {
   "cell_type": "code",
   "execution_count": 34,
   "id": "a7ff7913",
   "metadata": {},
   "outputs": [
    {
     "data": {
      "text/plain": [
       "array([[ 1,  2],\n",
       "       [ 4,  5],\n",
       "       [ 7,  8],\n",
       "       [10, 11]])"
      ]
     },
     "execution_count": 34,
     "metadata": {},
     "output_type": "execute_result"
    }
   ],
   "source": [
    "# selecting the first 4 rows and 2 columns\n",
    "# Note that to choose the second column, we need to set the stopping index as 2 which is not included, \n",
    "# one might think of x[:,:1], however, the stopping index is not included, that is why we set it equal to 2.\n",
    "\n",
    "x[:,:2]"
   ]
  },
  {
   "cell_type": "code",
   "execution_count": 35,
   "id": "c15568be",
   "metadata": {},
   "outputs": [
    {
     "data": {
      "text/plain": [
       "array([[2, 3],\n",
       "       [5, 6]])"
      ]
     },
     "execution_count": 35,
     "metadata": {},
     "output_type": "execute_result"
    }
   ],
   "source": [
    "x[:2,1:3]"
   ]
  },
  {
   "cell_type": "code",
   "execution_count": 36,
   "id": "2d4c4cfa",
   "metadata": {},
   "outputs": [
    {
     "data": {
      "text/plain": [
       "array([[ 8,  9],\n",
       "       [11, 12]])"
      ]
     },
     "execution_count": 36,
     "metadata": {},
     "output_type": "execute_result"
    }
   ],
   "source": [
    "x[2:4, 1:3]"
   ]
  },
  {
   "cell_type": "code",
   "execution_count": 37,
   "id": "82bee05b",
   "metadata": {},
   "outputs": [
    {
     "data": {
      "text/plain": [
       "array([[4, 5],\n",
       "       [7, 8]])"
      ]
     },
     "execution_count": 37,
     "metadata": {},
     "output_type": "execute_result"
    }
   ],
   "source": [
    "x[1:3, :2]"
   ]
  },
  {
   "cell_type": "code",
   "execution_count": 38,
   "id": "d31b40d4",
   "metadata": {},
   "outputs": [
    {
     "data": {
      "text/plain": [
       "array([[ 1,  3],\n",
       "       [ 4,  6],\n",
       "       [ 7,  9],\n",
       "       [10, 12]])"
      ]
     },
     "execution_count": 38,
     "metadata": {},
     "output_type": "execute_result"
    }
   ],
   "source": [
    "# Selecting 4 rows and every other column\n",
    "x[:,::2] "
   ]
  },
  {
   "cell_type": "code",
   "execution_count": 39,
   "id": "9911b595",
   "metadata": {},
   "outputs": [
    {
     "name": "stdout",
     "output_type": "stream",
     "text": [
      "[[12 11 10]\n",
      " [ 9  8  7]\n",
      " [ 6  5  4]\n",
      " [ 3  2  1]]\n",
      "\n",
      "\n",
      "[[ 1  2  3]\n",
      " [ 4  5  6]\n",
      " [ 7  8  9]\n",
      " [10 11 12]]\n"
     ]
    }
   ],
   "source": [
    "# Reversing the dimensions \n",
    "\n",
    "print(x[::-1, ::-1])\n",
    "print(\"\\n\")\n",
    "print(x)\n"
   ]
  },
  {
   "cell_type": "markdown",
   "id": "c87c3fac",
   "metadata": {},
   "source": [
    "### Subarrays Views\n",
    "\n",
    "You should note that array slices return views of data rather than copies, meaning if part of an array is selected and modified, the original array will also be modified"
   ]
  },
  {
   "cell_type": "code",
   "execution_count": 40,
   "id": "4f259a9f",
   "metadata": {},
   "outputs": [
    {
     "data": {
      "text/plain": [
       "array([[3, 5, 2, 4],\n",
       "       [0, 0, 4, 2],\n",
       "       [1, 0, 1, 5]])"
      ]
     },
     "execution_count": 40,
     "metadata": {},
     "output_type": "execute_result"
    }
   ],
   "source": [
    "a3"
   ]
  },
  {
   "cell_type": "code",
   "execution_count": 41,
   "id": "8980eafa",
   "metadata": {},
   "outputs": [
    {
     "data": {
      "text/plain": [
       "array([[5, 2],\n",
       "       [0, 4],\n",
       "       [0, 1]])"
      ]
     },
     "execution_count": 41,
     "metadata": {},
     "output_type": "execute_result"
    }
   ],
   "source": [
    "a_mod = a3[:, 1:3] # Selecting a part of a3 and load it to a_mod\n",
    "a_mod"
   ]
  },
  {
   "cell_type": "code",
   "execution_count": 42,
   "id": "67caa6b3",
   "metadata": {},
   "outputs": [
    {
     "data": {
      "text/plain": [
       "array([[5, 2],\n",
       "       [0, 4],\n",
       "       [1, 1]])"
      ]
     },
     "execution_count": 42,
     "metadata": {},
     "output_type": "execute_result"
    }
   ],
   "source": [
    "a_mod[2:3,0] = 1 # Changed the value in third row and first column to 1\n",
    "a_mod"
   ]
  },
  {
   "cell_type": "code",
   "execution_count": 43,
   "id": "bbef6835",
   "metadata": {},
   "outputs": [
    {
     "data": {
      "text/plain": [
       "array([[3, 5, 2, 4],\n",
       "       [0, 0, 4, 2],\n",
       "       [1, 1, 1, 5]])"
      ]
     },
     "execution_count": 43,
     "metadata": {},
     "output_type": "execute_result"
    }
   ],
   "source": [
    "a3 # Now the content of the original a3 has changed as well"
   ]
  },
  {
   "cell_type": "markdown",
   "id": "871109f5",
   "metadata": {},
   "source": [
    "### Creating copies of arrays\n",
    "\n",
    "When is needed to work with part of an array without changing the content of the original one, we can use the copy() method to copy it in a seperate variable."
   ]
  },
  {
   "cell_type": "code",
   "execution_count": 44,
   "id": "4bb53609",
   "metadata": {},
   "outputs": [
    {
     "data": {
      "text/plain": [
       "array([[3, 5, 2, 4],\n",
       "       [0, 0, 4, 2],\n",
       "       [1, 1, 1, 5]])"
      ]
     },
     "execution_count": 44,
     "metadata": {},
     "output_type": "execute_result"
    }
   ],
   "source": [
    "a3"
   ]
  },
  {
   "cell_type": "code",
   "execution_count": 45,
   "id": "41a7b90d",
   "metadata": {},
   "outputs": [
    {
     "data": {
      "text/plain": [
       "array([[5, 2],\n",
       "       [0, 4],\n",
       "       [1, 1]])"
      ]
     },
     "execution_count": 45,
     "metadata": {},
     "output_type": "execute_result"
    }
   ],
   "source": [
    "a_copy = a3[:, 1:3].copy()\n",
    "a_copy"
   ]
  },
  {
   "cell_type": "code",
   "execution_count": 46,
   "id": "38c87562",
   "metadata": {},
   "outputs": [
    {
     "data": {
      "text/plain": [
       "array([[6, 6],\n",
       "       [0, 4],\n",
       "       [1, 1]])"
      ]
     },
     "execution_count": 46,
     "metadata": {},
     "output_type": "execute_result"
    }
   ],
   "source": [
    "a_copy[:1,:] = 6\n",
    "a_copy"
   ]
  },
  {
   "cell_type": "code",
   "execution_count": 47,
   "id": "aad51cf5",
   "metadata": {},
   "outputs": [
    {
     "data": {
      "text/plain": [
       "array([[3, 5, 2, 4],\n",
       "       [0, 0, 4, 2],\n",
       "       [1, 1, 1, 5]])"
      ]
     },
     "execution_count": 47,
     "metadata": {},
     "output_type": "execute_result"
    }
   ],
   "source": [
    "a3 # Since we copied a part of a3 to a seperate variable, changing the content of a_copy did not affect a3"
   ]
  },
  {
   "cell_type": "markdown",
   "id": "ec82ffc8",
   "metadata": {},
   "source": [
    "### Reshaping of Arrays\n",
    "\n",
    "Consider a one-dimensional array you wish to transform into a 3x3 matrix. A convenient way of doing so is using the reshape() method. Note that the size of the transformed array must be the same as the original one."
   ]
  },
  {
   "cell_type": "code",
   "execution_count": 48,
   "id": "f1ce35f5",
   "metadata": {},
   "outputs": [
    {
     "data": {
      "text/plain": [
       "array([1, 2, 3, 4, 5, 6, 7, 8, 9])"
      ]
     },
     "execution_count": 48,
     "metadata": {},
     "output_type": "execute_result"
    }
   ],
   "source": [
    "a"
   ]
  },
  {
   "cell_type": "code",
   "execution_count": 49,
   "id": "89f69ee4",
   "metadata": {},
   "outputs": [
    {
     "data": {
      "text/plain": [
       "(9,)"
      ]
     },
     "execution_count": 49,
     "metadata": {},
     "output_type": "execute_result"
    }
   ],
   "source": [
    "a.shape"
   ]
  },
  {
   "cell_type": "code",
   "execution_count": 50,
   "id": "6cdc980a",
   "metadata": {},
   "outputs": [
    {
     "data": {
      "text/plain": [
       "array([[1, 2, 3],\n",
       "       [4, 5, 6],\n",
       "       [7, 8, 9]])"
      ]
     },
     "execution_count": 50,
     "metadata": {},
     "output_type": "execute_result"
    }
   ],
   "source": [
    "a_matrix = a.reshape(3,3) # transforming a 1-d array to 3x3 matrix\n",
    "a_matrix"
   ]
  },
  {
   "cell_type": "code",
   "execution_count": 51,
   "id": "e9275d65",
   "metadata": {},
   "outputs": [
    {
     "data": {
      "text/plain": [
       "(3, 3)"
      ]
     },
     "execution_count": 51,
     "metadata": {},
     "output_type": "execute_result"
    }
   ],
   "source": [
    "a_matrix.shape"
   ]
  },
  {
   "cell_type": "markdown",
   "id": "42e26340",
   "metadata": {},
   "source": [
    "### Adding a New Dimension\n",
    "\n",
    "It is also possible to add a new dimension by using np.newaxis in a slice operation. \n"
   ]
  },
  {
   "cell_type": "code",
   "execution_count": 52,
   "id": "555b2df5",
   "metadata": {},
   "outputs": [
    {
     "data": {
      "text/plain": [
       "array([1, 2, 3, 4, 5, 6, 7, 8, 9])"
      ]
     },
     "execution_count": 52,
     "metadata": {},
     "output_type": "execute_result"
    }
   ],
   "source": [
    "a"
   ]
  },
  {
   "cell_type": "code",
   "execution_count": 53,
   "id": "5f2dedb1",
   "metadata": {},
   "outputs": [
    {
     "data": {
      "text/plain": [
       "array([[1, 2, 3, 4, 5, 6, 7, 8, 9]])"
      ]
     },
     "execution_count": 53,
     "metadata": {},
     "output_type": "execute_result"
    }
   ],
   "source": [
    "a_2d = a[np.newaxis,:] \n",
    "a_2d"
   ]
  },
  {
   "cell_type": "code",
   "execution_count": 54,
   "id": "107587c2",
   "metadata": {},
   "outputs": [
    {
     "data": {
      "text/plain": [
       "(1, 9)"
      ]
     },
     "execution_count": 54,
     "metadata": {},
     "output_type": "execute_result"
    }
   ],
   "source": [
    "a_2d.shape # 1 row and 9 columns"
   ]
  },
  {
   "cell_type": "code",
   "execution_count": 55,
   "id": "035b06c6",
   "metadata": {},
   "outputs": [
    {
     "data": {
      "text/plain": [
       "array([[1],\n",
       "       [2],\n",
       "       [3],\n",
       "       [4],\n",
       "       [5],\n",
       "       [6],\n",
       "       [7],\n",
       "       [8],\n",
       "       [9]])"
      ]
     },
     "execution_count": 55,
     "metadata": {},
     "output_type": "execute_result"
    }
   ],
   "source": [
    "a_2d_column = a[:,np.newaxis]\n",
    "a_2d_column"
   ]
  },
  {
   "cell_type": "code",
   "execution_count": 56,
   "id": "201ad3a6",
   "metadata": {},
   "outputs": [
    {
     "data": {
      "text/plain": [
       "(9, 1)"
      ]
     },
     "execution_count": 56,
     "metadata": {},
     "output_type": "execute_result"
    }
   ],
   "source": [
    "a_2d_column.shape # 9 row and 1 column"
   ]
  },
  {
   "cell_type": "markdown",
   "id": "78ffa2d4",
   "metadata": {},
   "source": [
    "### Concatenation and Splitting\n",
    "\n",
    "Joining two or more arrays using the following routines:\n",
    "\n",
    "    - np.concatenate\n",
    "    - np.vstack (vertical stack)\n",
    "    - np.hstack (horizontal stack)\n",
    " "
   ]
  },
  {
   "cell_type": "code",
   "execution_count": 60,
   "id": "f353abff",
   "metadata": {},
   "outputs": [
    {
     "data": {
      "text/plain": [
       "array([0, 1, 2, 3, 4, 5])"
      ]
     },
     "execution_count": 60,
     "metadata": {},
     "output_type": "execute_result"
    }
   ],
   "source": [
    "a = np.array([0,1,2])\n",
    "b = np.array([3,4,5])\n",
    "\n",
    "np.concatenate((a,b)) # adding two arrays "
   ]
  },
  {
   "cell_type": "code",
   "execution_count": 61,
   "id": "c8dbb17d",
   "metadata": {},
   "outputs": [],
   "source": [
    "c = [6,7,8]"
   ]
  },
  {
   "cell_type": "code",
   "execution_count": 62,
   "id": "ca673021",
   "metadata": {},
   "outputs": [
    {
     "data": {
      "text/plain": [
       "array([0, 1, 2, 3, 4, 5, 6, 7, 8])"
      ]
     },
     "execution_count": 62,
     "metadata": {},
     "output_type": "execute_result"
    }
   ],
   "source": [
    "np.concatenate((a,b,c))"
   ]
  },
  {
   "cell_type": "code",
   "execution_count": 66,
   "id": "e0905638",
   "metadata": {},
   "outputs": [
    {
     "data": {
      "text/plain": [
       "array([[1, 2, 3],\n",
       "       [4, 5, 6]])"
      ]
     },
     "execution_count": 66,
     "metadata": {},
     "output_type": "execute_result"
    }
   ],
   "source": [
    "# adding 2-D array\n",
    "\n",
    "array_2d = np.array([[1,2,3],[4,5,6]])\n",
    "array_2d"
   ]
  },
  {
   "cell_type": "code",
   "execution_count": 67,
   "id": "3b900c89",
   "metadata": {},
   "outputs": [
    {
     "data": {
      "text/plain": [
       "array([[1, 2, 3],\n",
       "       [4, 5, 6],\n",
       "       [1, 2, 3],\n",
       "       [4, 5, 6]])"
      ]
     },
     "execution_count": 67,
     "metadata": {},
     "output_type": "execute_result"
    }
   ],
   "source": [
    "np.concatenate((array_2d, array_2d)) # adding arrays of same dimension vertically"
   ]
  },
  {
   "cell_type": "code",
   "execution_count": 68,
   "id": "924a513f",
   "metadata": {},
   "outputs": [
    {
     "data": {
      "text/plain": [
       "array([[1, 2, 3, 1, 2, 3],\n",
       "       [4, 5, 6, 4, 5, 6]])"
      ]
     },
     "execution_count": 68,
     "metadata": {},
     "output_type": "execute_result"
    }
   ],
   "source": [
    "np.concatenate((array_2d,array_2d), axis = 1) # adding arrays of same dimension horizontally"
   ]
  },
  {
   "cell_type": "code",
   "execution_count": 69,
   "id": "e5190254",
   "metadata": {},
   "outputs": [
    {
     "ename": "ValueError",
     "evalue": "all the input arrays must have same number of dimensions, but the array at index 0 has 1 dimension(s) and the array at index 1 has 2 dimension(s)",
     "output_type": "error",
     "traceback": [
      "\u001b[1;31m---------------------------------------------------------------------------\u001b[0m",
      "\u001b[1;31mValueError\u001b[0m                                Traceback (most recent call last)",
      "\u001b[1;32m<ipython-input-69-168728b9da96>\u001b[0m in \u001b[0;36m<module>\u001b[1;34m\u001b[0m\n\u001b[0;32m      1\u001b[0m \u001b[0ma\u001b[0m \u001b[1;33m=\u001b[0m \u001b[1;33m[\u001b[0m\u001b[1;36m7\u001b[0m\u001b[1;33m,\u001b[0m\u001b[1;36m8\u001b[0m\u001b[1;33m,\u001b[0m\u001b[1;36m9\u001b[0m\u001b[1;33m]\u001b[0m\u001b[1;33m\u001b[0m\u001b[1;33m\u001b[0m\u001b[0m\n\u001b[0;32m      2\u001b[0m \u001b[1;33m\u001b[0m\u001b[0m\n\u001b[1;32m----> 3\u001b[1;33m \u001b[0mnp\u001b[0m\u001b[1;33m.\u001b[0m\u001b[0mconcatenate\u001b[0m\u001b[1;33m(\u001b[0m\u001b[1;33m(\u001b[0m\u001b[0ma\u001b[0m\u001b[1;33m,\u001b[0m\u001b[0marray_2d\u001b[0m\u001b[1;33m)\u001b[0m\u001b[1;33m)\u001b[0m\u001b[1;33m\u001b[0m\u001b[1;33m\u001b[0m\u001b[0m\n\u001b[0m",
      "\u001b[1;32m<__array_function__ internals>\u001b[0m in \u001b[0;36mconcatenate\u001b[1;34m(*args, **kwargs)\u001b[0m\n",
      "\u001b[1;31mValueError\u001b[0m: all the input arrays must have same number of dimensions, but the array at index 0 has 1 dimension(s) and the array at index 1 has 2 dimension(s)"
     ]
    }
   ],
   "source": [
    "a = [7,8,9]\n",
    "\n",
    "np.concatenate((a,array_2d)) # cannot add two arrays of different dimension using np.concatenate"
   ]
  },
  {
   "cell_type": "code",
   "execution_count": 70,
   "id": "60760b43",
   "metadata": {},
   "outputs": [
    {
     "data": {
      "text/plain": [
       "array([[7, 8, 9],\n",
       "       [1, 2, 3],\n",
       "       [4, 5, 6]])"
      ]
     },
     "execution_count": 70,
     "metadata": {},
     "output_type": "execute_result"
    }
   ],
   "source": [
    "np.vstack((a,array_2d)) # adding arrays of different dimension with same number of columns vertically"
   ]
  },
  {
   "cell_type": "code",
   "execution_count": 74,
   "id": "6003598c",
   "metadata": {},
   "outputs": [
    {
     "ename": "ValueError",
     "evalue": "all the input array dimensions for the concatenation axis must match exactly, but along dimension 1, the array at index 0 has size 2 and the array at index 1 has size 3",
     "output_type": "error",
     "traceback": [
      "\u001b[1;31m---------------------------------------------------------------------------\u001b[0m",
      "\u001b[1;31mValueError\u001b[0m                                Traceback (most recent call last)",
      "\u001b[1;32m<ipython-input-74-060a5e4743e2>\u001b[0m in \u001b[0;36m<module>\u001b[1;34m\u001b[0m\n\u001b[0;32m      1\u001b[0m \u001b[0ma\u001b[0m \u001b[1;33m=\u001b[0m \u001b[0mnp\u001b[0m\u001b[1;33m.\u001b[0m\u001b[0marray\u001b[0m\u001b[1;33m(\u001b[0m\u001b[1;33m[\u001b[0m\u001b[1;36m1\u001b[0m\u001b[1;33m,\u001b[0m\u001b[1;36m2\u001b[0m\u001b[1;33m]\u001b[0m\u001b[1;33m)\u001b[0m\u001b[1;33m\u001b[0m\u001b[1;33m\u001b[0m\u001b[0m\n\u001b[0;32m      2\u001b[0m \u001b[1;33m\u001b[0m\u001b[0m\n\u001b[1;32m----> 3\u001b[1;33m \u001b[0mnp\u001b[0m\u001b[1;33m.\u001b[0m\u001b[0mvstack\u001b[0m\u001b[1;33m(\u001b[0m\u001b[1;33m(\u001b[0m\u001b[0ma\u001b[0m\u001b[1;33m,\u001b[0m\u001b[0marray_2d\u001b[0m\u001b[1;33m)\u001b[0m\u001b[1;33m)\u001b[0m \u001b[1;31m# cannot add them because they have different sizes\u001b[0m\u001b[1;33m\u001b[0m\u001b[1;33m\u001b[0m\u001b[0m\n\u001b[0m",
      "\u001b[1;32m<__array_function__ internals>\u001b[0m in \u001b[0;36mvstack\u001b[1;34m(*args, **kwargs)\u001b[0m\n",
      "\u001b[1;32m~\\anaconda3\\lib\\site-packages\\numpy\\core\\shape_base.py\u001b[0m in \u001b[0;36mvstack\u001b[1;34m(tup)\u001b[0m\n\u001b[0;32m    281\u001b[0m     \u001b[1;32mif\u001b[0m \u001b[1;32mnot\u001b[0m \u001b[0misinstance\u001b[0m\u001b[1;33m(\u001b[0m\u001b[0marrs\u001b[0m\u001b[1;33m,\u001b[0m \u001b[0mlist\u001b[0m\u001b[1;33m)\u001b[0m\u001b[1;33m:\u001b[0m\u001b[1;33m\u001b[0m\u001b[1;33m\u001b[0m\u001b[0m\n\u001b[0;32m    282\u001b[0m         \u001b[0marrs\u001b[0m \u001b[1;33m=\u001b[0m \u001b[1;33m[\u001b[0m\u001b[0marrs\u001b[0m\u001b[1;33m]\u001b[0m\u001b[1;33m\u001b[0m\u001b[1;33m\u001b[0m\u001b[0m\n\u001b[1;32m--> 283\u001b[1;33m     \u001b[1;32mreturn\u001b[0m \u001b[0m_nx\u001b[0m\u001b[1;33m.\u001b[0m\u001b[0mconcatenate\u001b[0m\u001b[1;33m(\u001b[0m\u001b[0marrs\u001b[0m\u001b[1;33m,\u001b[0m \u001b[1;36m0\u001b[0m\u001b[1;33m)\u001b[0m\u001b[1;33m\u001b[0m\u001b[1;33m\u001b[0m\u001b[0m\n\u001b[0m\u001b[0;32m    284\u001b[0m \u001b[1;33m\u001b[0m\u001b[0m\n\u001b[0;32m    285\u001b[0m \u001b[1;33m\u001b[0m\u001b[0m\n",
      "\u001b[1;32m<__array_function__ internals>\u001b[0m in \u001b[0;36mconcatenate\u001b[1;34m(*args, **kwargs)\u001b[0m\n",
      "\u001b[1;31mValueError\u001b[0m: all the input array dimensions for the concatenation axis must match exactly, but along dimension 1, the array at index 0 has size 2 and the array at index 1 has size 3"
     ]
    }
   ],
   "source": [
    "a = np.array([1,2])\n",
    "\n",
    "np.vstack((a,array_2d)) # cannot add them because they have different sizes"
   ]
  },
  {
   "cell_type": "code",
   "execution_count": 84,
   "id": "033737b5",
   "metadata": {},
   "outputs": [],
   "source": [
    "a1 = np.array([1,2,3])"
   ]
  },
  {
   "cell_type": "code",
   "execution_count": 85,
   "id": "f19beb5c",
   "metadata": {},
   "outputs": [
    {
     "data": {
      "text/plain": [
       "(3,)"
      ]
     },
     "execution_count": 85,
     "metadata": {},
     "output_type": "execute_result"
    }
   ],
   "source": [
    "a1.shape"
   ]
  },
  {
   "cell_type": "code",
   "execution_count": 86,
   "id": "e9153407",
   "metadata": {},
   "outputs": [
    {
     "data": {
      "text/plain": [
       "3"
      ]
     },
     "execution_count": 86,
     "metadata": {},
     "output_type": "execute_result"
    }
   ],
   "source": [
    "a1.size"
   ]
  },
  {
   "cell_type": "code",
   "execution_count": 77,
   "id": "981a2025",
   "metadata": {},
   "outputs": [
    {
     "data": {
      "text/plain": [
       "3"
      ]
     },
     "execution_count": 77,
     "metadata": {},
     "output_type": "execute_result"
    }
   ],
   "source": [
    "array_2d[0].size"
   ]
  },
  {
   "cell_type": "code",
   "execution_count": 88,
   "id": "030b8a98",
   "metadata": {},
   "outputs": [
    {
     "data": {
      "text/plain": [
       "array([[1, 2, 3],\n",
       "       [1, 2, 3],\n",
       "       [4, 5, 6]])"
      ]
     },
     "execution_count": 88,
     "metadata": {},
     "output_type": "execute_result"
    }
   ],
   "source": [
    "# since a1 have 1 row with size 3 and array_2d has two \n",
    "#rows each with size 3 then it is possible to add them vertically\n",
    "\n",
    "np.vstack((a1,array_2d)) "
   ]
  },
  {
   "cell_type": "code",
   "execution_count": 89,
   "id": "401d4254",
   "metadata": {},
   "outputs": [],
   "source": [
    "a2 = np.array([1,2])"
   ]
  },
  {
   "cell_type": "code",
   "execution_count": 90,
   "id": "fd1523b2",
   "metadata": {},
   "outputs": [
    {
     "ename": "ValueError",
     "evalue": "all the input arrays must have same number of dimensions, but the array at index 0 has 1 dimension(s) and the array at index 1 has 2 dimension(s)",
     "output_type": "error",
     "traceback": [
      "\u001b[1;31m---------------------------------------------------------------------------\u001b[0m",
      "\u001b[1;31mValueError\u001b[0m                                Traceback (most recent call last)",
      "\u001b[1;32m<ipython-input-90-9ac2418c3b2e>\u001b[0m in \u001b[0;36m<module>\u001b[1;34m\u001b[0m\n\u001b[1;32m----> 1\u001b[1;33m \u001b[0mnp\u001b[0m\u001b[1;33m.\u001b[0m\u001b[0mhstack\u001b[0m\u001b[1;33m(\u001b[0m\u001b[1;33m(\u001b[0m\u001b[0ma2\u001b[0m\u001b[1;33m,\u001b[0m\u001b[0marray_2d\u001b[0m\u001b[1;33m)\u001b[0m\u001b[1;33m)\u001b[0m\u001b[1;33m\u001b[0m\u001b[1;33m\u001b[0m\u001b[0m\n\u001b[0m",
      "\u001b[1;32m<__array_function__ internals>\u001b[0m in \u001b[0;36mhstack\u001b[1;34m(*args, **kwargs)\u001b[0m\n",
      "\u001b[1;32m~\\anaconda3\\lib\\site-packages\\numpy\\core\\shape_base.py\u001b[0m in \u001b[0;36mhstack\u001b[1;34m(tup)\u001b[0m\n\u001b[0;32m    342\u001b[0m     \u001b[1;31m# As a special case, dimension 0 of 1-dimensional arrays is \"horizontal\"\u001b[0m\u001b[1;33m\u001b[0m\u001b[1;33m\u001b[0m\u001b[1;33m\u001b[0m\u001b[0m\n\u001b[0;32m    343\u001b[0m     \u001b[1;32mif\u001b[0m \u001b[0marrs\u001b[0m \u001b[1;32mand\u001b[0m \u001b[0marrs\u001b[0m\u001b[1;33m[\u001b[0m\u001b[1;36m0\u001b[0m\u001b[1;33m]\u001b[0m\u001b[1;33m.\u001b[0m\u001b[0mndim\u001b[0m \u001b[1;33m==\u001b[0m \u001b[1;36m1\u001b[0m\u001b[1;33m:\u001b[0m\u001b[1;33m\u001b[0m\u001b[1;33m\u001b[0m\u001b[0m\n\u001b[1;32m--> 344\u001b[1;33m         \u001b[1;32mreturn\u001b[0m \u001b[0m_nx\u001b[0m\u001b[1;33m.\u001b[0m\u001b[0mconcatenate\u001b[0m\u001b[1;33m(\u001b[0m\u001b[0marrs\u001b[0m\u001b[1;33m,\u001b[0m \u001b[1;36m0\u001b[0m\u001b[1;33m)\u001b[0m\u001b[1;33m\u001b[0m\u001b[1;33m\u001b[0m\u001b[0m\n\u001b[0m\u001b[0;32m    345\u001b[0m     \u001b[1;32melse\u001b[0m\u001b[1;33m:\u001b[0m\u001b[1;33m\u001b[0m\u001b[1;33m\u001b[0m\u001b[0m\n\u001b[0;32m    346\u001b[0m         \u001b[1;32mreturn\u001b[0m \u001b[0m_nx\u001b[0m\u001b[1;33m.\u001b[0m\u001b[0mconcatenate\u001b[0m\u001b[1;33m(\u001b[0m\u001b[0marrs\u001b[0m\u001b[1;33m,\u001b[0m \u001b[1;36m1\u001b[0m\u001b[1;33m)\u001b[0m\u001b[1;33m\u001b[0m\u001b[1;33m\u001b[0m\u001b[0m\n",
      "\u001b[1;32m<__array_function__ internals>\u001b[0m in \u001b[0;36mconcatenate\u001b[1;34m(*args, **kwargs)\u001b[0m\n",
      "\u001b[1;31mValueError\u001b[0m: all the input arrays must have same number of dimensions, but the array at index 0 has 1 dimension(s) and the array at index 1 has 2 dimension(s)"
     ]
    }
   ],
   "source": [
    "np.hstack((a2,array_2d)) # cannot add them horizontally due different dimensions"
   ]
  },
  {
   "cell_type": "code",
   "execution_count": 93,
   "id": "be1fa656",
   "metadata": {},
   "outputs": [],
   "source": [
    "a3 = np.array([[1,2,3],[4,5,6]]) # 2-dimensional array"
   ]
  },
  {
   "cell_type": "code",
   "execution_count": 94,
   "id": "9d7304d0",
   "metadata": {},
   "outputs": [
    {
     "data": {
      "text/plain": [
       "array([[1, 2, 3, 1, 2, 3],\n",
       "       [4, 5, 6, 4, 5, 6]])"
      ]
     },
     "execution_count": 94,
     "metadata": {},
     "output_type": "execute_result"
    }
   ],
   "source": [
    "np.hstack((a3,array_2d)) # it is possible to add them horizontally since they are both 2-D"
   ]
  },
  {
   "cell_type": "markdown",
   "id": "db432395",
   "metadata": {},
   "source": [
    "### Splitting of Array"
   ]
  },
  {
   "cell_type": "code",
   "execution_count": 95,
   "id": "48eb5b44",
   "metadata": {},
   "outputs": [
    {
     "data": {
      "text/plain": [
       "[array([1, 2, 3]), array([4, 5]), array([6, 7, 7, 8])]"
      ]
     },
     "execution_count": 95,
     "metadata": {},
     "output_type": "execute_result"
    }
   ],
   "source": [
    "# the first argument n is the array that we want to split,the second argument [] tells us how it is divided\n",
    "# [3,5]--> n[:3] = [1,2,3], then n[3:5] = [4,5], and the rest n[5:] = [6, 7, 7, 8]\n",
    "\n",
    "n = [1,2,3,4,5,6,7,7,8]\n",
    "np.split(n, [3, 5])"
   ]
  },
  {
   "cell_type": "code",
   "execution_count": 100,
   "id": "34ad4167",
   "metadata": {},
   "outputs": [
    {
     "data": {
      "text/plain": [
       "array([[ 0,  1,  2,  3],\n",
       "       [ 4,  5,  6,  7],\n",
       "       [ 8,  9, 10, 11]])"
      ]
     },
     "execution_count": 100,
     "metadata": {},
     "output_type": "execute_result"
    }
   ],
   "source": [
    "array = np.arange(12).reshape((3,4))\n",
    "array"
   ]
  },
  {
   "cell_type": "code",
   "execution_count": 103,
   "id": "2bbb9285",
   "metadata": {},
   "outputs": [
    {
     "data": {
      "text/plain": [
       "[array([[0, 1, 2, 3],\n",
       "        [4, 5, 6, 7]]),\n",
       " array([[ 8,  9, 10, 11]])]"
      ]
     },
     "execution_count": 103,
     "metadata": {},
     "output_type": "execute_result"
    }
   ],
   "source": [
    "np.vsplit(array,[2])"
   ]
  },
  {
   "cell_type": "code",
   "execution_count": 104,
   "id": "1e56e89e",
   "metadata": {},
   "outputs": [
    {
     "data": {
      "text/plain": [
       "[array([[0, 1],\n",
       "        [4, 5],\n",
       "        [8, 9]]),\n",
       " array([[ 2,  3],\n",
       "        [ 6,  7],\n",
       "        [10, 11]])]"
      ]
     },
     "execution_count": 104,
     "metadata": {},
     "output_type": "execute_result"
    }
   ],
   "source": [
    "np.hsplit(array,[2])"
   ]
  },
  {
   "cell_type": "markdown",
   "id": "610cea7b",
   "metadata": {},
   "source": [
    "### Computation on Numpy Arrays"
   ]
  },
  {
   "cell_type": "code",
   "execution_count": null,
   "id": "da3214e3",
   "metadata": {},
   "outputs": [],
   "source": []
  }
 ],
 "metadata": {
  "kernelspec": {
   "display_name": "Python 3",
   "language": "python",
   "name": "python3"
  },
  "language_info": {
   "codemirror_mode": {
    "name": "ipython",
    "version": 3
   },
   "file_extension": ".py",
   "mimetype": "text/x-python",
   "name": "python",
   "nbconvert_exporter": "python",
   "pygments_lexer": "ipython3",
   "version": "3.8.8"
  }
 },
 "nbformat": 4,
 "nbformat_minor": 5
}
