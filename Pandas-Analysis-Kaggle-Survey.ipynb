{
 "cells": [
  {
   "cell_type": "code",
   "execution_count": 39,
   "id": "871dfdf9",
   "metadata": {},
   "outputs": [],
   "source": [
    "import pandas as pd\n",
    "import numpy as np\n",
    "%matplotlib inline"
   ]
  },
  {
   "cell_type": "markdown",
   "id": "c90aaf58",
   "metadata": {},
   "source": [
    "### Series Object\n",
    "\n",
    "A series object in pandas is simply a one-dimensional array of indexed data.It means that each element has an index, allowing one to access them using values and the index attributes.\n",
    "\n",
    "    Syntax: \n",
    "        pd.Series(data, index = index)\n",
    "\n",
    "index argument is optional"
   ]
  },
  {
   "cell_type": "code",
   "execution_count": 43,
   "id": "162ccca5",
   "metadata": {},
   "outputs": [
    {
     "data": {
      "text/plain": [
       "0     1\n",
       "1     3\n",
       "2     4\n",
       "3     6\n",
       "4     7\n",
       "5    12\n",
       "dtype: int64"
      ]
     },
     "execution_count": 43,
     "metadata": {},
     "output_type": "execute_result"
    }
   ],
   "source": [
    "s = pd.Series([1,3,4,6,7,12]) # creating a pandas series using a list\n",
    "s"
   ]
  },
  {
   "cell_type": "code",
   "execution_count": 44,
   "id": "6e0e442c",
   "metadata": {},
   "outputs": [
    {
     "data": {
      "text/plain": [
       "array([ 1,  3,  4,  6,  7, 12], dtype=int64)"
      ]
     },
     "execution_count": 44,
     "metadata": {},
     "output_type": "execute_result"
    }
   ],
   "source": [
    "# as you can see the result shows a sequence of indices and values.\n",
    "\n",
    "s.values # getting the values only"
   ]
  },
  {
   "cell_type": "code",
   "execution_count": 45,
   "id": "a2840937",
   "metadata": {},
   "outputs": [
    {
     "data": {
      "text/plain": [
       "RangeIndex(start=0, stop=6, step=1)"
      ]
     },
     "execution_count": 45,
     "metadata": {},
     "output_type": "execute_result"
    }
   ],
   "source": [
    "s.index # accessing the indices"
   ]
  },
  {
   "cell_type": "code",
   "execution_count": 46,
   "id": "39bcb632",
   "metadata": {},
   "outputs": [
    {
     "data": {
      "text/plain": [
       "1"
      ]
     },
     "execution_count": 46,
     "metadata": {},
     "output_type": "execute_result"
    }
   ],
   "source": [
    "# we can also get the values as follows:\n",
    "s[0]"
   ]
  },
  {
   "cell_type": "code",
   "execution_count": 47,
   "id": "b92810ae",
   "metadata": {},
   "outputs": [
    {
     "data": {
      "text/plain": [
       "6"
      ]
     },
     "execution_count": 47,
     "metadata": {},
     "output_type": "execute_result"
    }
   ],
   "source": [
    "s[3]"
   ]
  },
  {
   "cell_type": "code",
   "execution_count": 48,
   "id": "d7a988a4",
   "metadata": {},
   "outputs": [
    {
     "data": {
      "text/plain": [
       "0    1\n",
       "1    3\n",
       "2    4\n",
       "3    6\n",
       "4    7\n",
       "dtype: int64"
      ]
     },
     "execution_count": 48,
     "metadata": {},
     "output_type": "execute_result"
    }
   ],
   "source": [
    "s[:5]"
   ]
  },
  {
   "cell_type": "markdown",
   "id": "a1cf5bcd",
   "metadata": {},
   "source": [
    "### The difference between Pandas Series Object and One-Dimensional array\n",
    "\n",
    "The only difference between a series object and a Numpy one-dimensional array is the indices.An important feature of the series object is that the indices can take any type of value and can be set up in any way."
   ]
  },
  {
   "cell_type": "code",
   "execution_count": 49,
   "id": "b4162129",
   "metadata": {},
   "outputs": [
    {
     "data": {
      "text/plain": [
       "2     1\n",
       "3     4\n",
       "8     5\n",
       "4     7\n",
       "6     8\n",
       "7    11\n",
       "dtype: int64"
      ]
     },
     "execution_count": 49,
     "metadata": {},
     "output_type": "execute_result"
    }
   ],
   "source": [
    "s = pd.Series([1,4,5,7,8,11], index = [2,3,8,4,6,7]) # the indices are different in this case\n",
    "s"
   ]
  },
  {
   "cell_type": "code",
   "execution_count": 50,
   "id": "ba8c5d5d",
   "metadata": {},
   "outputs": [
    {
     "data": {
      "text/plain": [
       "b    2\n",
       "c    3\n",
       "s    4\n",
       "d    5\n",
       "n    6\n",
       "e    7\n",
       "dtype: int64"
      ]
     },
     "execution_count": 50,
     "metadata": {},
     "output_type": "execute_result"
    }
   ],
   "source": [
    "s = pd.Series([2,3,4,5,6,7], index = ['b', 'c', 's', 'd', 'n', 'e']) # the indices are strings\n",
    "s"
   ]
  },
  {
   "cell_type": "code",
   "execution_count": 51,
   "id": "4ace846a",
   "metadata": {},
   "outputs": [
    {
     "data": {
      "text/plain": [
       "2"
      ]
     },
     "execution_count": 51,
     "metadata": {},
     "output_type": "execute_result"
    }
   ],
   "source": [
    "s['b']"
   ]
  },
  {
   "cell_type": "code",
   "execution_count": 52,
   "id": "de8ce6c6",
   "metadata": {},
   "outputs": [
    {
     "data": {
      "text/plain": [
       "Alex        22\n",
       "John        17\n",
       "Samantha    25\n",
       "dtype: int64"
      ]
     },
     "execution_count": 52,
     "metadata": {},
     "output_type": "execute_result"
    }
   ],
   "source": [
    "# Creating Pandas Series Object using a dictionary \n",
    "\n",
    "name_age_dict = {'Alex': 22, 'John':17, 'Samantha': 25}\n",
    "\n",
    "s = pd.Series(name_age_dict)\n",
    "s"
   ]
  },
  {
   "cell_type": "code",
   "execution_count": 53,
   "id": "cc64377d",
   "metadata": {},
   "outputs": [
    {
     "data": {
      "text/plain": [
       "22"
      ]
     },
     "execution_count": 53,
     "metadata": {},
     "output_type": "execute_result"
    }
   ],
   "source": [
    "s['Alex'] # Accessing values"
   ]
  },
  {
   "cell_type": "code",
   "execution_count": 54,
   "id": "eeb7a2df",
   "metadata": {},
   "outputs": [
    {
     "data": {
      "text/plain": [
       "Alex        22\n",
       "John        17\n",
       "Samantha    25\n",
       "dtype: int64"
      ]
     },
     "execution_count": 54,
     "metadata": {},
     "output_type": "execute_result"
    }
   ],
   "source": [
    "s['Alex':'Samantha'] # Slicing"
   ]
  },
  {
   "cell_type": "markdown",
   "id": "52e4ef06",
   "metadata": {},
   "source": [
    "### Pandas DataFrame Object\n",
    "\n",
    "A dateframe object is similar to a Numpy two-dimensional array with row indices and column names."
   ]
  },
  {
   "cell_type": "code",
   "execution_count": 55,
   "id": "46d8ec7f",
   "metadata": {},
   "outputs": [
    {
     "data": {
      "text/html": [
       "<div>\n",
       "<style scoped>\n",
       "    .dataframe tbody tr th:only-of-type {\n",
       "        vertical-align: middle;\n",
       "    }\n",
       "\n",
       "    .dataframe tbody tr th {\n",
       "        vertical-align: top;\n",
       "    }\n",
       "\n",
       "    .dataframe thead th {\n",
       "        text-align: right;\n",
       "    }\n",
       "</style>\n",
       "<table border=\"1\" class=\"dataframe\">\n",
       "  <thead>\n",
       "    <tr style=\"text-align: right;\">\n",
       "      <th></th>\n",
       "      <th>Age</th>\n",
       "      <th>Name</th>\n",
       "    </tr>\n",
       "  </thead>\n",
       "  <tbody>\n",
       "    <tr>\n",
       "      <th>0</th>\n",
       "      <td>20</td>\n",
       "      <td>Smith</td>\n",
       "    </tr>\n",
       "    <tr>\n",
       "      <th>1</th>\n",
       "      <td>23</td>\n",
       "      <td>Robin</td>\n",
       "    </tr>\n",
       "    <tr>\n",
       "      <th>2</th>\n",
       "      <td>35</td>\n",
       "      <td>Alain</td>\n",
       "    </tr>\n",
       "    <tr>\n",
       "      <th>3</th>\n",
       "      <td>54</td>\n",
       "      <td>Pierre</td>\n",
       "    </tr>\n",
       "  </tbody>\n",
       "</table>\n",
       "</div>"
      ],
      "text/plain": [
       "   Age    Name\n",
       "0   20   Smith\n",
       "1   23   Robin\n",
       "2   35   Alain\n",
       "3   54  Pierre"
      ]
     },
     "execution_count": 55,
     "metadata": {},
     "output_type": "execute_result"
    }
   ],
   "source": [
    "age = pd.Series([20, 23, 35, 54])\n",
    "name = pd.Series(['Smith', 'Robin', 'Alain', 'Pierre'])\n",
    "\n",
    "df = pd.DataFrame({'Age':age,'Name':name})\n",
    "df"
   ]
  },
  {
   "cell_type": "code",
   "execution_count": 56,
   "id": "838952ef",
   "metadata": {},
   "outputs": [
    {
     "data": {
      "text/plain": [
       "RangeIndex(start=0, stop=4, step=1)"
      ]
     },
     "execution_count": 56,
     "metadata": {},
     "output_type": "execute_result"
    }
   ],
   "source": [
    "df.index"
   ]
  },
  {
   "cell_type": "code",
   "execution_count": 57,
   "id": "c1cf51d3",
   "metadata": {},
   "outputs": [],
   "source": [
    "quizzes = {'Smith': 65,\n",
    "'Robin': 82,\n",
    "'Alain': 48,\n",
    "'Pierre': 95,\n",
    "'John': 77}\n"
   ]
  },
  {
   "cell_type": "code",
   "execution_count": 58,
   "id": "04a7e0f7",
   "metadata": {},
   "outputs": [],
   "source": [
    "# example from the book python for data science handbook\n",
    "\n",
    "Final_exam = {'Smith': 89, 'Robin': 69, 'Alain': 97,\n",
    "'Pierre': 70, 'John': 64}"
   ]
  },
  {
   "cell_type": "code",
   "execution_count": 59,
   "id": "d68757c5",
   "metadata": {},
   "outputs": [
    {
     "data": {
      "text/html": [
       "<div>\n",
       "<style scoped>\n",
       "    .dataframe tbody tr th:only-of-type {\n",
       "        vertical-align: middle;\n",
       "    }\n",
       "\n",
       "    .dataframe tbody tr th {\n",
       "        vertical-align: top;\n",
       "    }\n",
       "\n",
       "    .dataframe thead th {\n",
       "        text-align: right;\n",
       "    }\n",
       "</style>\n",
       "<table border=\"1\" class=\"dataframe\">\n",
       "  <thead>\n",
       "    <tr style=\"text-align: right;\">\n",
       "      <th></th>\n",
       "      <th>Quizzes</th>\n",
       "      <th>Final Exam</th>\n",
       "    </tr>\n",
       "  </thead>\n",
       "  <tbody>\n",
       "    <tr>\n",
       "      <th>Smith</th>\n",
       "      <td>65</td>\n",
       "      <td>89</td>\n",
       "    </tr>\n",
       "    <tr>\n",
       "      <th>Robin</th>\n",
       "      <td>82</td>\n",
       "      <td>69</td>\n",
       "    </tr>\n",
       "    <tr>\n",
       "      <th>Alain</th>\n",
       "      <td>48</td>\n",
       "      <td>97</td>\n",
       "    </tr>\n",
       "    <tr>\n",
       "      <th>Pierre</th>\n",
       "      <td>95</td>\n",
       "      <td>70</td>\n",
       "    </tr>\n",
       "    <tr>\n",
       "      <th>John</th>\n",
       "      <td>77</td>\n",
       "      <td>64</td>\n",
       "    </tr>\n",
       "  </tbody>\n",
       "</table>\n",
       "</div>"
      ],
      "text/plain": [
       "        Quizzes  Final Exam\n",
       "Smith        65          89\n",
       "Robin        82          69\n",
       "Alain        48          97\n",
       "Pierre       95          70\n",
       "John         77          64"
      ]
     },
     "execution_count": 59,
     "metadata": {},
     "output_type": "execute_result"
    }
   ],
   "source": [
    "student_stats = pd.DataFrame({'Quizzes': quizzes,\n",
    "'Final Exam': Final_exam})\n",
    "\n",
    "student_stats"
   ]
  },
  {
   "cell_type": "code",
   "execution_count": 60,
   "id": "ff1cb3be",
   "metadata": {},
   "outputs": [
    {
     "data": {
      "text/plain": [
       "Index(['Smith', 'Robin', 'Alain', 'Pierre', 'John'], dtype='object')"
      ]
     },
     "execution_count": 60,
     "metadata": {},
     "output_type": "execute_result"
    }
   ],
   "source": [
    "student_stats.index"
   ]
  },
  {
   "cell_type": "code",
   "execution_count": 61,
   "id": "c7453473",
   "metadata": {},
   "outputs": [
    {
     "data": {
      "text/plain": [
       "Smith     65\n",
       "Robin     82\n",
       "Alain     48\n",
       "Pierre    95\n",
       "John      77\n",
       "Name: Quizzes, dtype: int64"
      ]
     },
     "execution_count": 61,
     "metadata": {},
     "output_type": "execute_result"
    }
   ],
   "source": [
    "student_stats['Quizzes']  # Calling a column name will return a Series of column data"
   ]
  },
  {
   "cell_type": "markdown",
   "id": "6ebda9b7",
   "metadata": {},
   "source": [
    "### Creating DataFrame"
   ]
  },
  {
   "cell_type": "code",
   "execution_count": 62,
   "id": "098b8161",
   "metadata": {},
   "outputs": [
    {
     "data": {
      "text/plain": [
       "Smith     65\n",
       "Robin     82\n",
       "Alain     48\n",
       "Pierre    95\n",
       "John      77\n",
       "dtype: int64"
      ]
     },
     "execution_count": 62,
     "metadata": {},
     "output_type": "execute_result"
    }
   ],
   "source": [
    "Q = pd.Series(quizzes) # A Series Object\n",
    "Q"
   ]
  },
  {
   "cell_type": "code",
   "execution_count": 63,
   "id": "055abc1e",
   "metadata": {},
   "outputs": [
    {
     "data": {
      "text/plain": [
       "pandas.core.series.Series"
      ]
     },
     "execution_count": 63,
     "metadata": {},
     "output_type": "execute_result"
    }
   ],
   "source": [
    "type(Q)"
   ]
  },
  {
   "cell_type": "code",
   "execution_count": 64,
   "id": "cafd08c0",
   "metadata": {},
   "outputs": [
    {
     "data": {
      "text/html": [
       "<div>\n",
       "<style scoped>\n",
       "    .dataframe tbody tr th:only-of-type {\n",
       "        vertical-align: middle;\n",
       "    }\n",
       "\n",
       "    .dataframe tbody tr th {\n",
       "        vertical-align: top;\n",
       "    }\n",
       "\n",
       "    .dataframe thead th {\n",
       "        text-align: right;\n",
       "    }\n",
       "</style>\n",
       "<table border=\"1\" class=\"dataframe\">\n",
       "  <thead>\n",
       "    <tr style=\"text-align: right;\">\n",
       "      <th></th>\n",
       "      <th>0</th>\n",
       "    </tr>\n",
       "  </thead>\n",
       "  <tbody>\n",
       "    <tr>\n",
       "      <th>Smith</th>\n",
       "      <td>65</td>\n",
       "    </tr>\n",
       "    <tr>\n",
       "      <th>Robin</th>\n",
       "      <td>82</td>\n",
       "    </tr>\n",
       "    <tr>\n",
       "      <th>Alain</th>\n",
       "      <td>48</td>\n",
       "    </tr>\n",
       "    <tr>\n",
       "      <th>Pierre</th>\n",
       "      <td>95</td>\n",
       "    </tr>\n",
       "    <tr>\n",
       "      <th>John</th>\n",
       "      <td>77</td>\n",
       "    </tr>\n",
       "  </tbody>\n",
       "</table>\n",
       "</div>"
      ],
      "text/plain": [
       "         0\n",
       "Smith   65\n",
       "Robin   82\n",
       "Alain   48\n",
       "Pierre  95\n",
       "John    77"
      ]
     },
     "execution_count": 64,
     "metadata": {},
     "output_type": "execute_result"
    }
   ],
   "source": [
    "pd.DataFrame(Q) # Creating a DataFrame from a Series Object"
   ]
  },
  {
   "cell_type": "code",
   "execution_count": 65,
   "id": "b85ff0b4",
   "metadata": {},
   "outputs": [
    {
     "data": {
      "text/html": [
       "<div>\n",
       "<style scoped>\n",
       "    .dataframe tbody tr th:only-of-type {\n",
       "        vertical-align: middle;\n",
       "    }\n",
       "\n",
       "    .dataframe tbody tr th {\n",
       "        vertical-align: top;\n",
       "    }\n",
       "\n",
       "    .dataframe thead th {\n",
       "        text-align: right;\n",
       "    }\n",
       "</style>\n",
       "<table border=\"1\" class=\"dataframe\">\n",
       "  <thead>\n",
       "    <tr style=\"text-align: right;\">\n",
       "      <th></th>\n",
       "      <th>Quizzes</th>\n",
       "    </tr>\n",
       "  </thead>\n",
       "  <tbody>\n",
       "    <tr>\n",
       "      <th>Smith</th>\n",
       "      <td>65</td>\n",
       "    </tr>\n",
       "    <tr>\n",
       "      <th>Robin</th>\n",
       "      <td>82</td>\n",
       "    </tr>\n",
       "    <tr>\n",
       "      <th>Alain</th>\n",
       "      <td>48</td>\n",
       "    </tr>\n",
       "    <tr>\n",
       "      <th>Pierre</th>\n",
       "      <td>95</td>\n",
       "    </tr>\n",
       "    <tr>\n",
       "      <th>John</th>\n",
       "      <td>77</td>\n",
       "    </tr>\n",
       "  </tbody>\n",
       "</table>\n",
       "</div>"
      ],
      "text/plain": [
       "        Quizzes\n",
       "Smith        65\n",
       "Robin        82\n",
       "Alain        48\n",
       "Pierre       95\n",
       "John         77"
      ]
     },
     "execution_count": 65,
     "metadata": {},
     "output_type": "execute_result"
    }
   ],
   "source": [
    "pd.DataFrame(Q, columns=['Quizzes']) # adding a column name"
   ]
  },
  {
   "cell_type": "code",
   "execution_count": 66,
   "id": "61a9ce80",
   "metadata": {},
   "outputs": [
    {
     "data": {
      "text/plain": [
       "pandas.core.series.Series"
      ]
     },
     "execution_count": 66,
     "metadata": {},
     "output_type": "execute_result"
    }
   ],
   "source": [
    "final_exam = pd.Series(Final_exam)\n",
    "type(final_exam)"
   ]
  },
  {
   "cell_type": "code",
   "execution_count": 67,
   "id": "cc592481",
   "metadata": {},
   "outputs": [
    {
     "data": {
      "text/html": [
       "<div>\n",
       "<style scoped>\n",
       "    .dataframe tbody tr th:only-of-type {\n",
       "        vertical-align: middle;\n",
       "    }\n",
       "\n",
       "    .dataframe tbody tr th {\n",
       "        vertical-align: top;\n",
       "    }\n",
       "\n",
       "    .dataframe thead th {\n",
       "        text-align: right;\n",
       "    }\n",
       "</style>\n",
       "<table border=\"1\" class=\"dataframe\">\n",
       "  <thead>\n",
       "    <tr style=\"text-align: right;\">\n",
       "      <th></th>\n",
       "      <th>Final Exam</th>\n",
       "    </tr>\n",
       "  </thead>\n",
       "  <tbody>\n",
       "    <tr>\n",
       "      <th>Smith</th>\n",
       "      <td>89</td>\n",
       "    </tr>\n",
       "    <tr>\n",
       "      <th>Robin</th>\n",
       "      <td>69</td>\n",
       "    </tr>\n",
       "    <tr>\n",
       "      <th>Alain</th>\n",
       "      <td>97</td>\n",
       "    </tr>\n",
       "    <tr>\n",
       "      <th>Pierre</th>\n",
       "      <td>70</td>\n",
       "    </tr>\n",
       "    <tr>\n",
       "      <th>John</th>\n",
       "      <td>64</td>\n",
       "    </tr>\n",
       "  </tbody>\n",
       "</table>\n",
       "</div>"
      ],
      "text/plain": [
       "        Final Exam\n",
       "Smith           89\n",
       "Robin           69\n",
       "Alain           97\n",
       "Pierre          70\n",
       "John            64"
      ]
     },
     "execution_count": 67,
     "metadata": {},
     "output_type": "execute_result"
    }
   ],
   "source": [
    "pd.DataFrame(final_exam, columns=['Final Exam']) # creating another dataframe from another series object"
   ]
  },
  {
   "cell_type": "code",
   "execution_count": 68,
   "id": "07227915",
   "metadata": {},
   "outputs": [
    {
     "data": {
      "text/html": [
       "<div>\n",
       "<style scoped>\n",
       "    .dataframe tbody tr th:only-of-type {\n",
       "        vertical-align: middle;\n",
       "    }\n",
       "\n",
       "    .dataframe tbody tr th {\n",
       "        vertical-align: top;\n",
       "    }\n",
       "\n",
       "    .dataframe thead th {\n",
       "        text-align: right;\n",
       "    }\n",
       "</style>\n",
       "<table border=\"1\" class=\"dataframe\">\n",
       "  <thead>\n",
       "    <tr style=\"text-align: right;\">\n",
       "      <th></th>\n",
       "      <th>Quizzes</th>\n",
       "      <th>Final Exam</th>\n",
       "    </tr>\n",
       "  </thead>\n",
       "  <tbody>\n",
       "    <tr>\n",
       "      <th>Smith</th>\n",
       "      <td>65</td>\n",
       "      <td>89</td>\n",
       "    </tr>\n",
       "    <tr>\n",
       "      <th>Robin</th>\n",
       "      <td>82</td>\n",
       "      <td>69</td>\n",
       "    </tr>\n",
       "    <tr>\n",
       "      <th>Alain</th>\n",
       "      <td>48</td>\n",
       "      <td>97</td>\n",
       "    </tr>\n",
       "    <tr>\n",
       "      <th>Pierre</th>\n",
       "      <td>95</td>\n",
       "      <td>70</td>\n",
       "    </tr>\n",
       "    <tr>\n",
       "      <th>John</th>\n",
       "      <td>77</td>\n",
       "      <td>64</td>\n",
       "    </tr>\n",
       "  </tbody>\n",
       "</table>\n",
       "</div>"
      ],
      "text/plain": [
       "        Quizzes  Final Exam\n",
       "Smith        65          89\n",
       "Robin        82          69\n",
       "Alain        48          97\n",
       "Pierre       95          70\n",
       "John         77          64"
      ]
     },
     "execution_count": 68,
     "metadata": {},
     "output_type": "execute_result"
    }
   ],
   "source": [
    "# Creating a dataframe from a dictionary of series object\n",
    "\n",
    "pd.DataFrame({'Quizzes': quizzes, 'Final Exam': final_exam})"
   ]
  },
  {
   "cell_type": "code",
   "execution_count": 69,
   "id": "b7ff2eb9",
   "metadata": {},
   "outputs": [
    {
     "data": {
      "text/html": [
       "<div>\n",
       "<style scoped>\n",
       "    .dataframe tbody tr th:only-of-type {\n",
       "        vertical-align: middle;\n",
       "    }\n",
       "\n",
       "    .dataframe tbody tr th {\n",
       "        vertical-align: top;\n",
       "    }\n",
       "\n",
       "    .dataframe thead th {\n",
       "        text-align: right;\n",
       "    }\n",
       "</style>\n",
       "<table border=\"1\" class=\"dataframe\">\n",
       "  <thead>\n",
       "    <tr style=\"text-align: right;\">\n",
       "      <th></th>\n",
       "      <th>name</th>\n",
       "      <th>age</th>\n",
       "    </tr>\n",
       "  </thead>\n",
       "  <tbody>\n",
       "    <tr>\n",
       "      <th>@</th>\n",
       "      <td>0.201310</td>\n",
       "      <td>0.198742</td>\n",
       "    </tr>\n",
       "    <tr>\n",
       "      <th>!</th>\n",
       "      <td>0.208055</td>\n",
       "      <td>0.829450</td>\n",
       "    </tr>\n",
       "  </tbody>\n",
       "</table>\n",
       "</div>"
      ],
      "text/plain": [
       "       name       age\n",
       "@  0.201310  0.198742\n",
       "!  0.208055  0.829450"
      ]
     },
     "execution_count": 69,
     "metadata": {},
     "output_type": "execute_result"
    }
   ],
   "source": [
    "# Creating a DataFrame from a 2-D Numpy array\n",
    "\n",
    "pd.DataFrame(np.random.rand(2,2), columns=['name','age'], index = ['@','!'])"
   ]
  },
  {
   "cell_type": "markdown",
   "id": "81ce8990",
   "metadata": {},
   "source": [
    "### Data Selection in Series "
   ]
  },
  {
   "cell_type": "code",
   "execution_count": 78,
   "id": "220cc387",
   "metadata": {},
   "outputs": [],
   "source": [
    "df = pd.read_csv(\"kaggle_survey_2021_responses.csv\", low_memory = False)"
   ]
  },
  {
   "cell_type": "code",
   "execution_count": 80,
   "id": "e9029972",
   "metadata": {},
   "outputs": [
    {
     "data": {
      "text/html": [
       "<div>\n",
       "<style scoped>\n",
       "    .dataframe tbody tr th:only-of-type {\n",
       "        vertical-align: middle;\n",
       "    }\n",
       "\n",
       "    .dataframe tbody tr th {\n",
       "        vertical-align: top;\n",
       "    }\n",
       "\n",
       "    .dataframe thead th {\n",
       "        text-align: right;\n",
       "    }\n",
       "</style>\n",
       "<table border=\"1\" class=\"dataframe\">\n",
       "  <thead>\n",
       "    <tr style=\"text-align: right;\">\n",
       "      <th></th>\n",
       "      <th>Time from Start to Finish (seconds)</th>\n",
       "      <th>Q1</th>\n",
       "      <th>Q2</th>\n",
       "      <th>Q3</th>\n",
       "      <th>Q4</th>\n",
       "      <th>Q5</th>\n",
       "      <th>Q6</th>\n",
       "      <th>Q7_Part_1</th>\n",
       "      <th>Q7_Part_2</th>\n",
       "      <th>Q7_Part_3</th>\n",
       "      <th>...</th>\n",
       "      <th>Q38_B_Part_3</th>\n",
       "      <th>Q38_B_Part_4</th>\n",
       "      <th>Q38_B_Part_5</th>\n",
       "      <th>Q38_B_Part_6</th>\n",
       "      <th>Q38_B_Part_7</th>\n",
       "      <th>Q38_B_Part_8</th>\n",
       "      <th>Q38_B_Part_9</th>\n",
       "      <th>Q38_B_Part_10</th>\n",
       "      <th>Q38_B_Part_11</th>\n",
       "      <th>Q38_B_OTHER</th>\n",
       "    </tr>\n",
       "  </thead>\n",
       "  <tbody>\n",
       "    <tr>\n",
       "      <th>0</th>\n",
       "      <td>Duration (in seconds)</td>\n",
       "      <td>What is your age (# years)?</td>\n",
       "      <td>What is your gender? - Selected Choice</td>\n",
       "      <td>In which country do you currently reside?</td>\n",
       "      <td>What is the highest level of formal education ...</td>\n",
       "      <td>Select the title most similar to your current ...</td>\n",
       "      <td>For how many years have you been writing code ...</td>\n",
       "      <td>What programming languages do you use on a reg...</td>\n",
       "      <td>What programming languages do you use on a reg...</td>\n",
       "      <td>What programming languages do you use on a reg...</td>\n",
       "      <td>...</td>\n",
       "      <td>In the next 2 years, do you hope to become mor...</td>\n",
       "      <td>In the next 2 years, do you hope to become mor...</td>\n",
       "      <td>In the next 2 years, do you hope to become mor...</td>\n",
       "      <td>In the next 2 years, do you hope to become mor...</td>\n",
       "      <td>In the next 2 years, do you hope to become mor...</td>\n",
       "      <td>In the next 2 years, do you hope to become mor...</td>\n",
       "      <td>In the next 2 years, do you hope to become mor...</td>\n",
       "      <td>In the next 2 years, do you hope to become mor...</td>\n",
       "      <td>In the next 2 years, do you hope to become mor...</td>\n",
       "      <td>In the next 2 years, do you hope to become mor...</td>\n",
       "    </tr>\n",
       "    <tr>\n",
       "      <th>1</th>\n",
       "      <td>910</td>\n",
       "      <td>50-54</td>\n",
       "      <td>Man</td>\n",
       "      <td>India</td>\n",
       "      <td>Bachelor’s degree</td>\n",
       "      <td>Other</td>\n",
       "      <td>5-10 years</td>\n",
       "      <td>Python</td>\n",
       "      <td>R</td>\n",
       "      <td>NaN</td>\n",
       "      <td>...</td>\n",
       "      <td>NaN</td>\n",
       "      <td>NaN</td>\n",
       "      <td>NaN</td>\n",
       "      <td>NaN</td>\n",
       "      <td>NaN</td>\n",
       "      <td>NaN</td>\n",
       "      <td>NaN</td>\n",
       "      <td>NaN</td>\n",
       "      <td>NaN</td>\n",
       "      <td>NaN</td>\n",
       "    </tr>\n",
       "    <tr>\n",
       "      <th>2</th>\n",
       "      <td>784</td>\n",
       "      <td>50-54</td>\n",
       "      <td>Man</td>\n",
       "      <td>Indonesia</td>\n",
       "      <td>Master’s degree</td>\n",
       "      <td>Program/Project Manager</td>\n",
       "      <td>20+ years</td>\n",
       "      <td>NaN</td>\n",
       "      <td>NaN</td>\n",
       "      <td>SQL</td>\n",
       "      <td>...</td>\n",
       "      <td>NaN</td>\n",
       "      <td>NaN</td>\n",
       "      <td>NaN</td>\n",
       "      <td>NaN</td>\n",
       "      <td>NaN</td>\n",
       "      <td>NaN</td>\n",
       "      <td>NaN</td>\n",
       "      <td>NaN</td>\n",
       "      <td>None</td>\n",
       "      <td>NaN</td>\n",
       "    </tr>\n",
       "  </tbody>\n",
       "</table>\n",
       "<p>3 rows × 369 columns</p>\n",
       "</div>"
      ],
      "text/plain": [
       "  Time from Start to Finish (seconds)                           Q1  \\\n",
       "0               Duration (in seconds)  What is your age (# years)?   \n",
       "1                                 910                        50-54   \n",
       "2                                 784                        50-54   \n",
       "\n",
       "                                       Q2  \\\n",
       "0  What is your gender? - Selected Choice   \n",
       "1                                     Man   \n",
       "2                                     Man   \n",
       "\n",
       "                                          Q3  \\\n",
       "0  In which country do you currently reside?   \n",
       "1                                      India   \n",
       "2                                  Indonesia   \n",
       "\n",
       "                                                  Q4  \\\n",
       "0  What is the highest level of formal education ...   \n",
       "1                                  Bachelor’s degree   \n",
       "2                                    Master’s degree   \n",
       "\n",
       "                                                  Q5  \\\n",
       "0  Select the title most similar to your current ...   \n",
       "1                                              Other   \n",
       "2                            Program/Project Manager   \n",
       "\n",
       "                                                  Q6  \\\n",
       "0  For how many years have you been writing code ...   \n",
       "1                                         5-10 years   \n",
       "2                                          20+ years   \n",
       "\n",
       "                                           Q7_Part_1  \\\n",
       "0  What programming languages do you use on a reg...   \n",
       "1                                             Python   \n",
       "2                                                NaN   \n",
       "\n",
       "                                           Q7_Part_2  \\\n",
       "0  What programming languages do you use on a reg...   \n",
       "1                                                  R   \n",
       "2                                                NaN   \n",
       "\n",
       "                                           Q7_Part_3  ...  \\\n",
       "0  What programming languages do you use on a reg...  ...   \n",
       "1                                                NaN  ...   \n",
       "2                                                SQL  ...   \n",
       "\n",
       "                                        Q38_B_Part_3  \\\n",
       "0  In the next 2 years, do you hope to become mor...   \n",
       "1                                                NaN   \n",
       "2                                                NaN   \n",
       "\n",
       "                                        Q38_B_Part_4  \\\n",
       "0  In the next 2 years, do you hope to become mor...   \n",
       "1                                                NaN   \n",
       "2                                                NaN   \n",
       "\n",
       "                                        Q38_B_Part_5  \\\n",
       "0  In the next 2 years, do you hope to become mor...   \n",
       "1                                                NaN   \n",
       "2                                                NaN   \n",
       "\n",
       "                                        Q38_B_Part_6  \\\n",
       "0  In the next 2 years, do you hope to become mor...   \n",
       "1                                                NaN   \n",
       "2                                                NaN   \n",
       "\n",
       "                                        Q38_B_Part_7  \\\n",
       "0  In the next 2 years, do you hope to become mor...   \n",
       "1                                                NaN   \n",
       "2                                                NaN   \n",
       "\n",
       "                                        Q38_B_Part_8  \\\n",
       "0  In the next 2 years, do you hope to become mor...   \n",
       "1                                                NaN   \n",
       "2                                                NaN   \n",
       "\n",
       "                                        Q38_B_Part_9  \\\n",
       "0  In the next 2 years, do you hope to become mor...   \n",
       "1                                                NaN   \n",
       "2                                                NaN   \n",
       "\n",
       "                                       Q38_B_Part_10  \\\n",
       "0  In the next 2 years, do you hope to become mor...   \n",
       "1                                                NaN   \n",
       "2                                                NaN   \n",
       "\n",
       "                                       Q38_B_Part_11  \\\n",
       "0  In the next 2 years, do you hope to become mor...   \n",
       "1                                                NaN   \n",
       "2                                               None   \n",
       "\n",
       "                                         Q38_B_OTHER  \n",
       "0  In the next 2 years, do you hope to become mor...  \n",
       "1                                                NaN  \n",
       "2                                                NaN  \n",
       "\n",
       "[3 rows x 369 columns]"
      ]
     },
     "execution_count": 80,
     "metadata": {},
     "output_type": "execute_result"
    }
   ],
   "source": [
    "df.head(3)"
   ]
  },
  {
   "cell_type": "code",
   "execution_count": 81,
   "id": "6a133e67",
   "metadata": {},
   "outputs": [
    {
     "data": {
      "text/plain": [
       "pandas.core.series.Series"
      ]
     },
     "execution_count": 81,
     "metadata": {},
     "output_type": "execute_result"
    }
   ],
   "source": [
    "# Lets work with a dataset df that was created earlier\n",
    "# any single column of a dataframe is a series object. Lets prove that\n",
    "\n",
    "type(df['Q1']) # second column of df"
   ]
  },
  {
   "cell_type": "code",
   "execution_count": 82,
   "id": "1f8f3baa",
   "metadata": {},
   "outputs": [],
   "source": [
    "Series_object = df['Q1'] "
   ]
  },
  {
   "cell_type": "code",
   "execution_count": 83,
   "id": "997ee680",
   "metadata": {},
   "outputs": [
    {
     "data": {
      "text/plain": [
       "'What is your age (# years)?'"
      ]
     },
     "execution_count": 83,
     "metadata": {},
     "output_type": "execute_result"
    }
   ],
   "source": [
    "Series_object[0] # Selecting the value of index 0"
   ]
  },
  {
   "cell_type": "code",
   "execution_count": 84,
   "id": "f2754367",
   "metadata": {},
   "outputs": [
    {
     "data": {
      "text/plain": [
       "'50-54'"
      ]
     },
     "execution_count": 84,
     "metadata": {},
     "output_type": "execute_result"
    }
   ],
   "source": [
    "Series_object[1]"
   ]
  },
  {
   "cell_type": "code",
   "execution_count": 85,
   "id": "cb275206",
   "metadata": {},
   "outputs": [
    {
     "data": {
      "text/plain": [
       "False"
      ]
     },
     "execution_count": 85,
     "metadata": {},
     "output_type": "execute_result"
    }
   ],
   "source": [
    "'a' in Series_object # is 'a' an index of Series_object"
   ]
  },
  {
   "cell_type": "code",
   "execution_count": 86,
   "id": "efa223fd",
   "metadata": {},
   "outputs": [
    {
     "data": {
      "text/plain": [
       "True"
      ]
     },
     "execution_count": 86,
     "metadata": {},
     "output_type": "execute_result"
    }
   ],
   "source": [
    "2 in Series_object # is 2 an index of Series_object?"
   ]
  },
  {
   "cell_type": "code",
   "execution_count": 87,
   "id": "5d4a5f9e",
   "metadata": {},
   "outputs": [
    {
     "data": {
      "text/plain": [
       "RangeIndex(start=0, stop=25974, step=1)"
      ]
     },
     "execution_count": 87,
     "metadata": {},
     "output_type": "execute_result"
    }
   ],
   "source": [
    "Series_object.keys() # selecting the indices of Series_object"
   ]
  },
  {
   "cell_type": "code",
   "execution_count": 88,
   "id": "32b984e8",
   "metadata": {},
   "outputs": [
    {
     "data": {
      "text/plain": [
       "0    What is your age (# years)?\n",
       "1                          50-54\n",
       "2                          50-54\n",
       "3                          22-24\n",
       "4                          45-49\n",
       "5                              9\n",
       "6                          25-29\n",
       "7                          18-21\n",
       "8                              9\n",
       "9                          22-24\n",
       "Name: Q1, dtype: object"
      ]
     },
     "execution_count": 88,
     "metadata": {},
     "output_type": "execute_result"
    }
   ],
   "source": [
    "# changing the content of a Series object\n",
    "\n",
    "Series_object[5,8] = 9 # changing the values for index 5 and 8 to 9\n",
    "Series_object.head(10)"
   ]
  },
  {
   "cell_type": "markdown",
   "id": "29299d84",
   "metadata": {},
   "source": [
    "### Slicing Pandas Series\n"
   ]
  },
  {
   "cell_type": "code",
   "execution_count": 89,
   "id": "a8644977",
   "metadata": {},
   "outputs": [
    {
     "data": {
      "text/plain": [
       "0    What is your age (# years)?\n",
       "1                          50-54\n",
       "2                          50-54\n",
       "3                          22-24\n",
       "Name: Q1, dtype: object"
      ]
     },
     "execution_count": 89,
     "metadata": {},
     "output_type": "execute_result"
    }
   ],
   "source": [
    "Series_object[0:4] # Selecting from index 0 to index 5"
   ]
  },
  {
   "cell_type": "code",
   "execution_count": 90,
   "id": "eca4aab0",
   "metadata": {},
   "outputs": [
    {
     "data": {
      "text/plain": [
       "0    What is your age (# years)?\n",
       "5                              9\n",
       "Name: Q1, dtype: object"
      ]
     },
     "execution_count": 90,
     "metadata": {},
     "output_type": "execute_result"
    }
   ],
   "source": [
    "Series_object[[0,5]] # Selecting index 0 and 5"
   ]
  },
  {
   "cell_type": "code",
   "execution_count": 91,
   "id": "f2ab2065",
   "metadata": {},
   "outputs": [
    {
     "data": {
      "text/plain": [
       "1      50-54\n",
       "2      50-54\n",
       "17     50-54\n",
       "77     50-54\n",
       "161    50-54\n",
       "Name: Q1, dtype: object"
      ]
     },
     "execution_count": 91,
     "metadata": {},
     "output_type": "execute_result"
    }
   ],
   "source": [
    "Series_object[(Series_object == '50-54')].head() # selecting ages between 50-54"
   ]
  },
  {
   "cell_type": "code",
   "execution_count": 107,
   "id": "1e959b59",
   "metadata": {},
   "outputs": [
    {
     "data": {
      "text/plain": [
       "2    a\n",
       "4    b\n",
       "6    c\n",
       "dtype: object"
      ]
     },
     "execution_count": 107,
     "metadata": {},
     "output_type": "execute_result"
    }
   ],
   "source": [
    "# things are a bit different when the indices are not increment by 1\n",
    "serie = pd.Series(['a', 'b', 'c'], index=[2, 4, 6])\n",
    "serie"
   ]
  },
  {
   "cell_type": "code",
   "execution_count": 108,
   "id": "193a405b",
   "metadata": {},
   "outputs": [
    {
     "data": {
      "text/plain": [
       "'b'"
      ]
     },
     "execution_count": 108,
     "metadata": {},
     "output_type": "execute_result"
    }
   ],
   "source": [
    "serie[4] # explicit index when indexing, your way of indexing"
   ]
  },
  {
   "cell_type": "code",
   "execution_count": 109,
   "id": "93c953cb",
   "metadata": {},
   "outputs": [
    {
     "data": {
      "text/plain": [
       "'c'"
      ]
     },
     "execution_count": 109,
     "metadata": {},
     "output_type": "execute_result"
    }
   ],
   "source": [
    "serie[6]"
   ]
  },
  {
   "cell_type": "code",
   "execution_count": 115,
   "id": "f19a70b7",
   "metadata": {},
   "outputs": [
    {
     "data": {
      "text/plain": [
       "4    b\n",
       "6    c\n",
       "dtype: object"
      ]
     },
     "execution_count": 115,
     "metadata": {},
     "output_type": "execute_result"
    }
   ],
   "source": [
    "serie[1:3] # implicit index when indexing uses the python-style index, python way of slicing "
   ]
  },
  {
   "cell_type": "code",
   "execution_count": 123,
   "id": "7477aaa7",
   "metadata": {},
   "outputs": [],
   "source": [
    "# what if you want one select a and c?\n",
    "serie[[0,2]] # this will raise an error because your indices are not incremented by 1"
   ]
  },
  {
   "cell_type": "code",
   "execution_count": 121,
   "id": "21ed5bef",
   "metadata": {},
   "outputs": [
    {
     "data": {
      "text/plain": [
       "2    a\n",
       "6    c\n",
       "dtype: object"
      ]
     },
     "execution_count": 121,
     "metadata": {},
     "output_type": "execute_result"
    }
   ],
   "source": [
    "serie[[2,6]] # you need to type the exact indices to get the values"
   ]
  },
  {
   "cell_type": "markdown",
   "id": "14267077",
   "metadata": {},
   "source": [
    "### Loc and iloc"
   ]
  },
  {
   "cell_type": "code",
   "execution_count": null,
   "id": "43745e3d",
   "metadata": {},
   "outputs": [],
   "source": [
    "# We can use Loc whenever we want to have access a column or row based on their labels \n",
    "# We can use iloc which is related to integer location of rows and columns"
   ]
  },
  {
   "cell_type": "markdown",
   "id": "6cb55397",
   "metadata": {},
   "source": [
    "### Selecting with loc and iloc"
   ]
  },
  {
   "cell_type": "code",
   "execution_count": 125,
   "id": "b8994415",
   "metadata": {},
   "outputs": [
    {
     "data": {
      "text/plain": [
       "2    a\n",
       "6    c\n",
       "dtype: object"
      ]
     },
     "execution_count": 125,
     "metadata": {},
     "output_type": "execute_result"
    }
   ],
   "source": [
    "serie.iloc[[0,2]] # method one using the index location"
   ]
  },
  {
   "cell_type": "code",
   "execution_count": 126,
   "id": "397539fa",
   "metadata": {},
   "outputs": [
    {
     "data": {
      "text/plain": [
       "2    a\n",
       "6    c\n",
       "dtype: object"
      ]
     },
     "execution_count": 126,
     "metadata": {},
     "output_type": "execute_result"
    }
   ],
   "source": [
    "serie.loc[[2,6]] # method two using the labels"
   ]
  },
  {
   "cell_type": "markdown",
   "id": "7f4269aa",
   "metadata": {},
   "source": [
    "### Slicing with loc and iloc"
   ]
  },
  {
   "cell_type": "code",
   "execution_count": 130,
   "id": "b270f455",
   "metadata": {},
   "outputs": [
    {
     "data": {
      "text/plain": [
       "2    a\n",
       "4    b\n",
       "6    c\n",
       "dtype: object"
      ]
     },
     "execution_count": 130,
     "metadata": {},
     "output_type": "execute_result"
    }
   ],
   "source": [
    "serie.loc[2:6]"
   ]
  },
  {
   "cell_type": "code",
   "execution_count": 132,
   "id": "0d334333",
   "metadata": {},
   "outputs": [
    {
     "data": {
      "text/plain": [
       "2    a\n",
       "4    b\n",
       "6    c\n",
       "dtype: object"
      ]
     },
     "execution_count": 132,
     "metadata": {},
     "output_type": "execute_result"
    }
   ],
   "source": [
    "serie.iloc[0:3]"
   ]
  },
  {
   "cell_type": "markdown",
   "id": "885c4627",
   "metadata": {},
   "source": [
    "### Data Selection in DataFrame"
   ]
  },
  {
   "cell_type": "code",
   "execution_count": 165,
   "id": "403fe18c",
   "metadata": {},
   "outputs": [
    {
     "data": {
      "text/html": [
       "<div>\n",
       "<style scoped>\n",
       "    .dataframe tbody tr th:only-of-type {\n",
       "        vertical-align: middle;\n",
       "    }\n",
       "\n",
       "    .dataframe tbody tr th {\n",
       "        vertical-align: top;\n",
       "    }\n",
       "\n",
       "    .dataframe thead th {\n",
       "        text-align: right;\n",
       "    }\n",
       "</style>\n",
       "<table border=\"1\" class=\"dataframe\">\n",
       "  <thead>\n",
       "    <tr style=\"text-align: right;\">\n",
       "      <th></th>\n",
       "      <th>Quizzes</th>\n",
       "      <th>Final_Exam</th>\n",
       "    </tr>\n",
       "  </thead>\n",
       "  <tbody>\n",
       "    <tr>\n",
       "      <th>Smith</th>\n",
       "      <td>65</td>\n",
       "      <td>89</td>\n",
       "    </tr>\n",
       "    <tr>\n",
       "      <th>Robin</th>\n",
       "      <td>82</td>\n",
       "      <td>69</td>\n",
       "    </tr>\n",
       "    <tr>\n",
       "      <th>Alain</th>\n",
       "      <td>48</td>\n",
       "      <td>97</td>\n",
       "    </tr>\n",
       "    <tr>\n",
       "      <th>Pierre</th>\n",
       "      <td>95</td>\n",
       "      <td>70</td>\n",
       "    </tr>\n",
       "    <tr>\n",
       "      <th>John</th>\n",
       "      <td>77</td>\n",
       "      <td>64</td>\n",
       "    </tr>\n",
       "  </tbody>\n",
       "</table>\n",
       "</div>"
      ],
      "text/plain": [
       "        Quizzes  Final_Exam\n",
       "Smith        65          89\n",
       "Robin        82          69\n",
       "Alain        48          97\n",
       "Pierre       95          70\n",
       "John         77          64"
      ]
     },
     "execution_count": 165,
     "metadata": {},
     "output_type": "execute_result"
    }
   ],
   "source": [
    "dataframe = pd.DataFrame({'Quizzes': quizzes, 'Final_Exam':final_exam})\n",
    "dataframe"
   ]
  },
  {
   "cell_type": "code",
   "execution_count": 166,
   "id": "1f4a30d4",
   "metadata": {},
   "outputs": [
    {
     "data": {
      "text/plain": [
       "Smith     65\n",
       "Robin     82\n",
       "Alain     48\n",
       "Pierre    95\n",
       "John      77\n",
       "Name: Quizzes, dtype: int64"
      ]
     },
     "execution_count": 166,
     "metadata": {},
     "output_type": "execute_result"
    }
   ],
   "source": [
    "dataframe['Quizzes']"
   ]
  },
  {
   "cell_type": "code",
   "execution_count": 167,
   "id": "6cdfe653",
   "metadata": {},
   "outputs": [
    {
     "data": {
      "text/plain": [
       "Smith     65\n",
       "Robin     82\n",
       "Alain     48\n",
       "Pierre    95\n",
       "John      77\n",
       "Name: Quizzes, dtype: int64"
      ]
     },
     "execution_count": 167,
     "metadata": {},
     "output_type": "execute_result"
    }
   ],
   "source": [
    "dataframe.Quizzes"
   ]
  },
  {
   "cell_type": "code",
   "execution_count": 169,
   "id": "e60cebaa",
   "metadata": {},
   "outputs": [],
   "source": [
    "dataframe['Average'] = (dataframe['Quizzes'] + dataframe['Final_Exam'])/2 # adding a new column"
   ]
  },
  {
   "cell_type": "code",
   "execution_count": 170,
   "id": "8e470a7e",
   "metadata": {},
   "outputs": [
    {
     "data": {
      "text/html": [
       "<div>\n",
       "<style scoped>\n",
       "    .dataframe tbody tr th:only-of-type {\n",
       "        vertical-align: middle;\n",
       "    }\n",
       "\n",
       "    .dataframe tbody tr th {\n",
       "        vertical-align: top;\n",
       "    }\n",
       "\n",
       "    .dataframe thead th {\n",
       "        text-align: right;\n",
       "    }\n",
       "</style>\n",
       "<table border=\"1\" class=\"dataframe\">\n",
       "  <thead>\n",
       "    <tr style=\"text-align: right;\">\n",
       "      <th></th>\n",
       "      <th>Quizzes</th>\n",
       "      <th>Final_Exam</th>\n",
       "      <th>Average</th>\n",
       "    </tr>\n",
       "  </thead>\n",
       "  <tbody>\n",
       "    <tr>\n",
       "      <th>Smith</th>\n",
       "      <td>65</td>\n",
       "      <td>89</td>\n",
       "      <td>77.0</td>\n",
       "    </tr>\n",
       "    <tr>\n",
       "      <th>Robin</th>\n",
       "      <td>82</td>\n",
       "      <td>69</td>\n",
       "      <td>75.5</td>\n",
       "    </tr>\n",
       "    <tr>\n",
       "      <th>Alain</th>\n",
       "      <td>48</td>\n",
       "      <td>97</td>\n",
       "      <td>72.5</td>\n",
       "    </tr>\n",
       "    <tr>\n",
       "      <th>Pierre</th>\n",
       "      <td>95</td>\n",
       "      <td>70</td>\n",
       "      <td>82.5</td>\n",
       "    </tr>\n",
       "    <tr>\n",
       "      <th>John</th>\n",
       "      <td>77</td>\n",
       "      <td>64</td>\n",
       "      <td>70.5</td>\n",
       "    </tr>\n",
       "  </tbody>\n",
       "</table>\n",
       "</div>"
      ],
      "text/plain": [
       "        Quizzes  Final_Exam  Average\n",
       "Smith        65          89     77.0\n",
       "Robin        82          69     75.5\n",
       "Alain        48          97     72.5\n",
       "Pierre       95          70     82.5\n",
       "John         77          64     70.5"
      ]
     },
     "execution_count": 170,
     "metadata": {},
     "output_type": "execute_result"
    }
   ],
   "source": [
    "dataframe"
   ]
  },
  {
   "cell_type": "code",
   "execution_count": 171,
   "id": "9355d17f",
   "metadata": {},
   "outputs": [
    {
     "data": {
      "text/plain": [
       "array([65, 82, 48, 95, 77], dtype=int64)"
      ]
     },
     "execution_count": 171,
     "metadata": {},
     "output_type": "execute_result"
    }
   ],
   "source": [
    "# getting the values of a column\n",
    "\n",
    "dataframe['Quizzes'].values"
   ]
  },
  {
   "cell_type": "code",
   "execution_count": 172,
   "id": "50e34306",
   "metadata": {},
   "outputs": [
    {
     "data": {
      "text/plain": [
       "array([77. , 75.5, 72.5, 82.5, 70.5])"
      ]
     },
     "execution_count": 172,
     "metadata": {},
     "output_type": "execute_result"
    }
   ],
   "source": [
    "dataframe['Average'].values"
   ]
  },
  {
   "cell_type": "code",
   "execution_count": 173,
   "id": "3187d99f",
   "metadata": {},
   "outputs": [
    {
     "data": {
      "text/html": [
       "<div>\n",
       "<style scoped>\n",
       "    .dataframe tbody tr th:only-of-type {\n",
       "        vertical-align: middle;\n",
       "    }\n",
       "\n",
       "    .dataframe tbody tr th {\n",
       "        vertical-align: top;\n",
       "    }\n",
       "\n",
       "    .dataframe thead th {\n",
       "        text-align: right;\n",
       "    }\n",
       "</style>\n",
       "<table border=\"1\" class=\"dataframe\">\n",
       "  <thead>\n",
       "    <tr style=\"text-align: right;\">\n",
       "      <th></th>\n",
       "      <th>Smith</th>\n",
       "      <th>Robin</th>\n",
       "      <th>Alain</th>\n",
       "      <th>Pierre</th>\n",
       "      <th>John</th>\n",
       "    </tr>\n",
       "  </thead>\n",
       "  <tbody>\n",
       "    <tr>\n",
       "      <th>Quizzes</th>\n",
       "      <td>65.0</td>\n",
       "      <td>82.0</td>\n",
       "      <td>48.0</td>\n",
       "      <td>95.0</td>\n",
       "      <td>77.0</td>\n",
       "    </tr>\n",
       "    <tr>\n",
       "      <th>Final_Exam</th>\n",
       "      <td>89.0</td>\n",
       "      <td>69.0</td>\n",
       "      <td>97.0</td>\n",
       "      <td>70.0</td>\n",
       "      <td>64.0</td>\n",
       "    </tr>\n",
       "    <tr>\n",
       "      <th>Average</th>\n",
       "      <td>77.0</td>\n",
       "      <td>75.5</td>\n",
       "      <td>72.5</td>\n",
       "      <td>82.5</td>\n",
       "      <td>70.5</td>\n",
       "    </tr>\n",
       "  </tbody>\n",
       "</table>\n",
       "</div>"
      ],
      "text/plain": [
       "            Smith  Robin  Alain  Pierre  John\n",
       "Quizzes      65.0   82.0   48.0    95.0  77.0\n",
       "Final_Exam   89.0   69.0   97.0    70.0  64.0\n",
       "Average      77.0   75.5   72.5    82.5  70.5"
      ]
     },
     "execution_count": 173,
     "metadata": {},
     "output_type": "execute_result"
    }
   ],
   "source": [
    "# to transpose or transforming the rows into columns \n",
    "dataframe.T"
   ]
  },
  {
   "cell_type": "code",
   "execution_count": 174,
   "id": "c1b6793c",
   "metadata": {},
   "outputs": [
    {
     "data": {
      "text/plain": [
       "array([65., 89., 77.])"
      ]
     },
     "execution_count": 174,
     "metadata": {},
     "output_type": "execute_result"
    }
   ],
   "source": [
    "dataframe.values[0] # getting the values of first row, which happens to be Smith"
   ]
  },
  {
   "cell_type": "code",
   "execution_count": 175,
   "id": "95cfd52c",
   "metadata": {},
   "outputs": [
    {
     "data": {
      "text/html": [
       "<div>\n",
       "<style scoped>\n",
       "    .dataframe tbody tr th:only-of-type {\n",
       "        vertical-align: middle;\n",
       "    }\n",
       "\n",
       "    .dataframe tbody tr th {\n",
       "        vertical-align: top;\n",
       "    }\n",
       "\n",
       "    .dataframe thead th {\n",
       "        text-align: right;\n",
       "    }\n",
       "</style>\n",
       "<table border=\"1\" class=\"dataframe\">\n",
       "  <thead>\n",
       "    <tr style=\"text-align: right;\">\n",
       "      <th></th>\n",
       "      <th>Quizzes</th>\n",
       "      <th>Final_Exam</th>\n",
       "      <th>Average</th>\n",
       "    </tr>\n",
       "  </thead>\n",
       "  <tbody>\n",
       "    <tr>\n",
       "      <th>Smith</th>\n",
       "      <td>65</td>\n",
       "      <td>89</td>\n",
       "      <td>77.0</td>\n",
       "    </tr>\n",
       "    <tr>\n",
       "      <th>Robin</th>\n",
       "      <td>82</td>\n",
       "      <td>69</td>\n",
       "      <td>75.5</td>\n",
       "    </tr>\n",
       "    <tr>\n",
       "      <th>Alain</th>\n",
       "      <td>48</td>\n",
       "      <td>97</td>\n",
       "      <td>72.5</td>\n",
       "    </tr>\n",
       "    <tr>\n",
       "      <th>Pierre</th>\n",
       "      <td>95</td>\n",
       "      <td>70</td>\n",
       "      <td>82.5</td>\n",
       "    </tr>\n",
       "    <tr>\n",
       "      <th>John</th>\n",
       "      <td>77</td>\n",
       "      <td>64</td>\n",
       "      <td>70.5</td>\n",
       "    </tr>\n",
       "  </tbody>\n",
       "</table>\n",
       "</div>"
      ],
      "text/plain": [
       "        Quizzes  Final_Exam  Average\n",
       "Smith        65          89     77.0\n",
       "Robin        82          69     75.5\n",
       "Alain        48          97     72.5\n",
       "Pierre       95          70     82.5\n",
       "John         77          64     70.5"
      ]
     },
     "execution_count": 175,
     "metadata": {},
     "output_type": "execute_result"
    }
   ],
   "source": [
    "dataframe"
   ]
  },
  {
   "cell_type": "markdown",
   "id": "a95f6ea8",
   "metadata": {},
   "source": [
    "### Selecting Data"
   ]
  },
  {
   "cell_type": "code",
   "execution_count": 176,
   "id": "e7930700",
   "metadata": {},
   "outputs": [
    {
     "data": {
      "text/plain": [
       "Quizzes       65.0\n",
       "Final_Exam    89.0\n",
       "Average       77.0\n",
       "Name: Smith, dtype: float64"
      ]
     },
     "execution_count": 176,
     "metadata": {},
     "output_type": "execute_result"
    }
   ],
   "source": [
    "dataframe.loc['Smith']"
   ]
  },
  {
   "cell_type": "code",
   "execution_count": 177,
   "id": "17a5b3ba",
   "metadata": {},
   "outputs": [
    {
     "data": {
      "text/plain": [
       "Quizzes       65.0\n",
       "Final_Exam    89.0\n",
       "Average       77.0\n",
       "Name: Smith, dtype: float64"
      ]
     },
     "execution_count": 177,
     "metadata": {},
     "output_type": "execute_result"
    }
   ],
   "source": [
    "dataframe.iloc[0]"
   ]
  },
  {
   "cell_type": "markdown",
   "id": "2ec27ff5",
   "metadata": {},
   "source": [
    "### Slicing Data"
   ]
  },
  {
   "cell_type": "code",
   "execution_count": 178,
   "id": "d660a193",
   "metadata": {},
   "outputs": [
    {
     "data": {
      "text/html": [
       "<div>\n",
       "<style scoped>\n",
       "    .dataframe tbody tr th:only-of-type {\n",
       "        vertical-align: middle;\n",
       "    }\n",
       "\n",
       "    .dataframe tbody tr th {\n",
       "        vertical-align: top;\n",
       "    }\n",
       "\n",
       "    .dataframe thead th {\n",
       "        text-align: right;\n",
       "    }\n",
       "</style>\n",
       "<table border=\"1\" class=\"dataframe\">\n",
       "  <thead>\n",
       "    <tr style=\"text-align: right;\">\n",
       "      <th></th>\n",
       "      <th>Quizzes</th>\n",
       "      <th>Final_Exam</th>\n",
       "      <th>Average</th>\n",
       "    </tr>\n",
       "  </thead>\n",
       "  <tbody>\n",
       "    <tr>\n",
       "      <th>Smith</th>\n",
       "      <td>65</td>\n",
       "      <td>89</td>\n",
       "      <td>77.0</td>\n",
       "    </tr>\n",
       "    <tr>\n",
       "      <th>Robin</th>\n",
       "      <td>82</td>\n",
       "      <td>69</td>\n",
       "      <td>75.5</td>\n",
       "    </tr>\n",
       "    <tr>\n",
       "      <th>Alain</th>\n",
       "      <td>48</td>\n",
       "      <td>97</td>\n",
       "      <td>72.5</td>\n",
       "    </tr>\n",
       "    <tr>\n",
       "      <th>Pierre</th>\n",
       "      <td>95</td>\n",
       "      <td>70</td>\n",
       "      <td>82.5</td>\n",
       "    </tr>\n",
       "    <tr>\n",
       "      <th>John</th>\n",
       "      <td>77</td>\n",
       "      <td>64</td>\n",
       "      <td>70.5</td>\n",
       "    </tr>\n",
       "  </tbody>\n",
       "</table>\n",
       "</div>"
      ],
      "text/plain": [
       "        Quizzes  Final_Exam  Average\n",
       "Smith        65          89     77.0\n",
       "Robin        82          69     75.5\n",
       "Alain        48          97     72.5\n",
       "Pierre       95          70     82.5\n",
       "John         77          64     70.5"
      ]
     },
     "execution_count": 178,
     "metadata": {},
     "output_type": "execute_result"
    }
   ],
   "source": [
    "dataframe.loc[:,:] # all rows and columns"
   ]
  },
  {
   "cell_type": "code",
   "execution_count": 179,
   "id": "056a5a05",
   "metadata": {},
   "outputs": [
    {
     "data": {
      "text/html": [
       "<div>\n",
       "<style scoped>\n",
       "    .dataframe tbody tr th:only-of-type {\n",
       "        vertical-align: middle;\n",
       "    }\n",
       "\n",
       "    .dataframe tbody tr th {\n",
       "        vertical-align: top;\n",
       "    }\n",
       "\n",
       "    .dataframe thead th {\n",
       "        text-align: right;\n",
       "    }\n",
       "</style>\n",
       "<table border=\"1\" class=\"dataframe\">\n",
       "  <thead>\n",
       "    <tr style=\"text-align: right;\">\n",
       "      <th></th>\n",
       "      <th>Quizzes</th>\n",
       "      <th>Final_Exam</th>\n",
       "      <th>Average</th>\n",
       "    </tr>\n",
       "  </thead>\n",
       "  <tbody>\n",
       "    <tr>\n",
       "      <th>Smith</th>\n",
       "      <td>65</td>\n",
       "      <td>89</td>\n",
       "      <td>77.0</td>\n",
       "    </tr>\n",
       "    <tr>\n",
       "      <th>Robin</th>\n",
       "      <td>82</td>\n",
       "      <td>69</td>\n",
       "      <td>75.5</td>\n",
       "    </tr>\n",
       "    <tr>\n",
       "      <th>Alain</th>\n",
       "      <td>48</td>\n",
       "      <td>97</td>\n",
       "      <td>72.5</td>\n",
       "    </tr>\n",
       "  </tbody>\n",
       "</table>\n",
       "</div>"
      ],
      "text/plain": [
       "       Quizzes  Final_Exam  Average\n",
       "Smith       65          89     77.0\n",
       "Robin       82          69     75.5\n",
       "Alain       48          97     72.5"
      ]
     },
     "execution_count": 179,
     "metadata": {},
     "output_type": "execute_result"
    }
   ],
   "source": [
    "dataframe.loc[:'Alain',] # first three rows"
   ]
  },
  {
   "cell_type": "code",
   "execution_count": 180,
   "id": "d5794eca",
   "metadata": {},
   "outputs": [
    {
     "data": {
      "text/html": [
       "<div>\n",
       "<style scoped>\n",
       "    .dataframe tbody tr th:only-of-type {\n",
       "        vertical-align: middle;\n",
       "    }\n",
       "\n",
       "    .dataframe tbody tr th {\n",
       "        vertical-align: top;\n",
       "    }\n",
       "\n",
       "    .dataframe thead th {\n",
       "        text-align: right;\n",
       "    }\n",
       "</style>\n",
       "<table border=\"1\" class=\"dataframe\">\n",
       "  <thead>\n",
       "    <tr style=\"text-align: right;\">\n",
       "      <th></th>\n",
       "      <th>Quizzes</th>\n",
       "      <th>Final_Exam</th>\n",
       "    </tr>\n",
       "  </thead>\n",
       "  <tbody>\n",
       "    <tr>\n",
       "      <th>Smith</th>\n",
       "      <td>65</td>\n",
       "      <td>89</td>\n",
       "    </tr>\n",
       "    <tr>\n",
       "      <th>Robin</th>\n",
       "      <td>82</td>\n",
       "      <td>69</td>\n",
       "    </tr>\n",
       "  </tbody>\n",
       "</table>\n",
       "</div>"
      ],
      "text/plain": [
       "       Quizzes  Final_Exam\n",
       "Smith       65          89\n",
       "Robin       82          69"
      ]
     },
     "execution_count": 180,
     "metadata": {},
     "output_type": "execute_result"
    }
   ],
   "source": [
    "dataframe.loc[:'Robin', :'Final Exam']"
   ]
  },
  {
   "cell_type": "code",
   "execution_count": 181,
   "id": "2a21f8d8",
   "metadata": {},
   "outputs": [
    {
     "data": {
      "text/html": [
       "<div>\n",
       "<style scoped>\n",
       "    .dataframe tbody tr th:only-of-type {\n",
       "        vertical-align: middle;\n",
       "    }\n",
       "\n",
       "    .dataframe tbody tr th {\n",
       "        vertical-align: top;\n",
       "    }\n",
       "\n",
       "    .dataframe thead th {\n",
       "        text-align: right;\n",
       "    }\n",
       "</style>\n",
       "<table border=\"1\" class=\"dataframe\">\n",
       "  <thead>\n",
       "    <tr style=\"text-align: right;\">\n",
       "      <th></th>\n",
       "      <th>Quizzes</th>\n",
       "      <th>Final_Exam</th>\n",
       "      <th>Average</th>\n",
       "    </tr>\n",
       "  </thead>\n",
       "  <tbody>\n",
       "    <tr>\n",
       "      <th>Smith</th>\n",
       "      <td>65</td>\n",
       "      <td>89</td>\n",
       "      <td>77.0</td>\n",
       "    </tr>\n",
       "    <tr>\n",
       "      <th>Robin</th>\n",
       "      <td>82</td>\n",
       "      <td>69</td>\n",
       "      <td>75.5</td>\n",
       "    </tr>\n",
       "  </tbody>\n",
       "</table>\n",
       "</div>"
      ],
      "text/plain": [
       "       Quizzes  Final_Exam  Average\n",
       "Smith       65          89     77.0\n",
       "Robin       82          69     75.5"
      ]
     },
     "execution_count": 181,
     "metadata": {},
     "output_type": "execute_result"
    }
   ],
   "source": [
    "dataframe.iloc[:2,:]"
   ]
  },
  {
   "cell_type": "code",
   "execution_count": 182,
   "id": "c28078d5",
   "metadata": {},
   "outputs": [
    {
     "data": {
      "text/html": [
       "<div>\n",
       "<style scoped>\n",
       "    .dataframe tbody tr th:only-of-type {\n",
       "        vertical-align: middle;\n",
       "    }\n",
       "\n",
       "    .dataframe tbody tr th {\n",
       "        vertical-align: top;\n",
       "    }\n",
       "\n",
       "    .dataframe thead th {\n",
       "        text-align: right;\n",
       "    }\n",
       "</style>\n",
       "<table border=\"1\" class=\"dataframe\">\n",
       "  <thead>\n",
       "    <tr style=\"text-align: right;\">\n",
       "      <th></th>\n",
       "      <th>Final_Exam</th>\n",
       "      <th>Average</th>\n",
       "    </tr>\n",
       "  </thead>\n",
       "  <tbody>\n",
       "    <tr>\n",
       "      <th>Smith</th>\n",
       "      <td>89</td>\n",
       "      <td>77.0</td>\n",
       "    </tr>\n",
       "    <tr>\n",
       "      <th>Robin</th>\n",
       "      <td>69</td>\n",
       "      <td>75.5</td>\n",
       "    </tr>\n",
       "    <tr>\n",
       "      <th>Alain</th>\n",
       "      <td>97</td>\n",
       "      <td>72.5</td>\n",
       "    </tr>\n",
       "    <tr>\n",
       "      <th>Pierre</th>\n",
       "      <td>70</td>\n",
       "      <td>82.5</td>\n",
       "    </tr>\n",
       "    <tr>\n",
       "      <th>John</th>\n",
       "      <td>64</td>\n",
       "      <td>70.5</td>\n",
       "    </tr>\n",
       "  </tbody>\n",
       "</table>\n",
       "</div>"
      ],
      "text/plain": [
       "        Final_Exam  Average\n",
       "Smith           89     77.0\n",
       "Robin           69     75.5\n",
       "Alain           97     72.5\n",
       "Pierre          70     82.5\n",
       "John            64     70.5"
      ]
     },
     "execution_count": 182,
     "metadata": {},
     "output_type": "execute_result"
    }
   ],
   "source": [
    "dataframe.iloc[:, 1:3]"
   ]
  },
  {
   "cell_type": "code",
   "execution_count": 191,
   "id": "4d311073",
   "metadata": {},
   "outputs": [
    {
     "data": {
      "text/html": [
       "<div>\n",
       "<style scoped>\n",
       "    .dataframe tbody tr th:only-of-type {\n",
       "        vertical-align: middle;\n",
       "    }\n",
       "\n",
       "    .dataframe tbody tr th {\n",
       "        vertical-align: top;\n",
       "    }\n",
       "\n",
       "    .dataframe thead th {\n",
       "        text-align: right;\n",
       "    }\n",
       "</style>\n",
       "<table border=\"1\" class=\"dataframe\">\n",
       "  <thead>\n",
       "    <tr style=\"text-align: right;\">\n",
       "      <th></th>\n",
       "      <th>Quizzes</th>\n",
       "    </tr>\n",
       "  </thead>\n",
       "  <tbody>\n",
       "    <tr>\n",
       "      <th>Smith</th>\n",
       "      <td>65</td>\n",
       "    </tr>\n",
       "    <tr>\n",
       "      <th>Alain</th>\n",
       "      <td>48</td>\n",
       "    </tr>\n",
       "  </tbody>\n",
       "</table>\n",
       "</div>"
      ],
      "text/plain": [
       "       Quizzes\n",
       "Smith       65\n",
       "Alain       48"
      ]
     },
     "execution_count": 191,
     "metadata": {},
     "output_type": "execute_result"
    }
   ],
   "source": [
    "dataframe.loc[dataframe.Final_Exam > 75, ['Quizzes']]"
   ]
  },
  {
   "cell_type": "code",
   "execution_count": 199,
   "id": "d8a588b5",
   "metadata": {},
   "outputs": [
    {
     "data": {
      "text/html": [
       "<div>\n",
       "<style scoped>\n",
       "    .dataframe tbody tr th:only-of-type {\n",
       "        vertical-align: middle;\n",
       "    }\n",
       "\n",
       "    .dataframe tbody tr th {\n",
       "        vertical-align: top;\n",
       "    }\n",
       "\n",
       "    .dataframe thead th {\n",
       "        text-align: right;\n",
       "    }\n",
       "</style>\n",
       "<table border=\"1\" class=\"dataframe\">\n",
       "  <thead>\n",
       "    <tr style=\"text-align: right;\">\n",
       "      <th></th>\n",
       "      <th>Quizzes</th>\n",
       "      <th>Final_Exam</th>\n",
       "      <th>Average</th>\n",
       "    </tr>\n",
       "  </thead>\n",
       "  <tbody>\n",
       "    <tr>\n",
       "      <th>Smith</th>\n",
       "      <td>65</td>\n",
       "      <td>89</td>\n",
       "      <td>77.0</td>\n",
       "    </tr>\n",
       "    <tr>\n",
       "      <th>Robin</th>\n",
       "      <td>82</td>\n",
       "      <td>69</td>\n",
       "      <td>75.5</td>\n",
       "    </tr>\n",
       "    <tr>\n",
       "      <th>Alain</th>\n",
       "      <td>48</td>\n",
       "      <td>97</td>\n",
       "      <td>72.5</td>\n",
       "    </tr>\n",
       "    <tr>\n",
       "      <th>Pierre</th>\n",
       "      <td>95</td>\n",
       "      <td>70</td>\n",
       "      <td>82.5</td>\n",
       "    </tr>\n",
       "    <tr>\n",
       "      <th>John</th>\n",
       "      <td>77</td>\n",
       "      <td>64</td>\n",
       "      <td>70.5</td>\n",
       "    </tr>\n",
       "  </tbody>\n",
       "</table>\n",
       "</div>"
      ],
      "text/plain": [
       "        Quizzes  Final_Exam  Average\n",
       "Smith        65          89     77.0\n",
       "Robin        82          69     75.5\n",
       "Alain        48          97     72.5\n",
       "Pierre       95          70     82.5\n",
       "John         77          64     70.5"
      ]
     },
     "execution_count": 199,
     "metadata": {},
     "output_type": "execute_result"
    }
   ],
   "source": [
    "dataframe"
   ]
  },
  {
   "cell_type": "code",
   "execution_count": 194,
   "id": "762d111d",
   "metadata": {},
   "outputs": [
    {
     "data": {
      "text/html": [
       "<div>\n",
       "<style scoped>\n",
       "    .dataframe tbody tr th:only-of-type {\n",
       "        vertical-align: middle;\n",
       "    }\n",
       "\n",
       "    .dataframe tbody tr th {\n",
       "        vertical-align: top;\n",
       "    }\n",
       "\n",
       "    .dataframe thead th {\n",
       "        text-align: right;\n",
       "    }\n",
       "</style>\n",
       "<table border=\"1\" class=\"dataframe\">\n",
       "  <thead>\n",
       "    <tr style=\"text-align: right;\">\n",
       "      <th></th>\n",
       "      <th>Quizzes</th>\n",
       "      <th>Final_Exam</th>\n",
       "    </tr>\n",
       "  </thead>\n",
       "  <tbody>\n",
       "    <tr>\n",
       "      <th>Smith</th>\n",
       "      <td>65</td>\n",
       "      <td>89</td>\n",
       "    </tr>\n",
       "    <tr>\n",
       "      <th>Robin</th>\n",
       "      <td>82</td>\n",
       "      <td>69</td>\n",
       "    </tr>\n",
       "    <tr>\n",
       "      <th>Alain</th>\n",
       "      <td>48</td>\n",
       "      <td>97</td>\n",
       "    </tr>\n",
       "  </tbody>\n",
       "</table>\n",
       "</div>"
      ],
      "text/plain": [
       "       Quizzes  Final_Exam\n",
       "Smith       65          89\n",
       "Robin       82          69\n",
       "Alain       48          97"
      ]
     },
     "execution_count": 194,
     "metadata": {},
     "output_type": "execute_result"
    }
   ],
   "source": [
    "dataframe.iloc[:3,:2]"
   ]
  },
  {
   "cell_type": "code",
   "execution_count": 200,
   "id": "3536032b",
   "metadata": {},
   "outputs": [],
   "source": [
    "# changing the quizzes mark for Smith\n",
    "\n",
    "dataframe.loc['Smith', 'Quizzes'] = 74"
   ]
  },
  {
   "cell_type": "code",
   "execution_count": 202,
   "id": "53b12968",
   "metadata": {},
   "outputs": [
    {
     "data": {
      "text/plain": [
       "74"
      ]
     },
     "execution_count": 202,
     "metadata": {},
     "output_type": "execute_result"
    }
   ],
   "source": [
    "dataframe.loc['Smith', 'Quizzes']"
   ]
  },
  {
   "cell_type": "code",
   "execution_count": null,
   "id": "8fc088db",
   "metadata": {},
   "outputs": [],
   "source": []
  }
 ],
 "metadata": {
  "kernelspec": {
   "display_name": "Python 3",
   "language": "python",
   "name": "python3"
  },
  "language_info": {
   "codemirror_mode": {
    "name": "ipython",
    "version": 3
   },
   "file_extension": ".py",
   "mimetype": "text/x-python",
   "name": "python",
   "nbconvert_exporter": "python",
   "pygments_lexer": "ipython3",
   "version": "3.8.8"
  }
 },
 "nbformat": 4,
 "nbformat_minor": 5
}
