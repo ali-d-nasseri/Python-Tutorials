{
 "cells": [
  {
   "cell_type": "markdown",
   "id": "2ba16ab6",
   "metadata": {},
   "source": [
    "https://numpy.org/doc/stable/user/quickstart.html\n"
   ]
  },
  {
   "cell_type": "markdown",
   "id": "2ff696de",
   "metadata": {},
   "source": [
    "## Numpy\n",
    "\n",
    "Numpy, which stand for Numerical Python, it is a python package used for scientific computation. It allows users to perform fast operations related to mathematical functions, arrays, linear algebra, statistics and more. It is an efficient tool for shape manipulation, sorting, and selecting elements. \n"
   ]
  },
  {
   "cell_type": "markdown",
   "id": "63a093c7",
   "metadata": {},
   "source": [
    "### Numpy ndarray\n",
    "\n",
    "- Numpy ndarray stands for N dimentional array, it is a class of Numpy's array which has attributes such as ndim, shape, size, dtype, itemsize, data\n",
    "- The elements inside the array are made of the same data type and with the same size in memory\n",
    "- Numpy array are fixed size when created, if one decided to change the size then a new array is created and the original is  deleted\n",
    "- It is possible to have arrays of objects, which can be made of different sized elements \n",
    "\n"
   ]
  },
  {
   "cell_type": "markdown",
   "id": "7f37d922",
   "metadata": {},
   "source": [
    "### Creating Array"
   ]
  },
  {
   "cell_type": "code",
   "execution_count": 2,
   "id": "11457429",
   "metadata": {},
   "outputs": [],
   "source": [
    "import numpy as np"
   ]
  },
  {
   "cell_type": "code",
   "execution_count": 16,
   "id": "8a72fe75",
   "metadata": {},
   "outputs": [
    {
     "data": {
      "text/plain": [
       "array([1, 2, 3, 4, 5, 6, 7, 8, 9])"
      ]
     },
     "execution_count": 16,
     "metadata": {},
     "output_type": "execute_result"
    }
   ],
   "source": [
    "a = np.array(range(1,10))\n",
    "a"
   ]
  },
  {
   "cell_type": "markdown",
   "id": "d2053002",
   "metadata": {},
   "source": [
    "### Array Attributes"
   ]
  },
  {
   "cell_type": "code",
   "execution_count": 17,
   "id": "2c6fa437",
   "metadata": {},
   "outputs": [
    {
     "data": {
      "text/plain": [
       "dtype('int32')"
      ]
     },
     "execution_count": 17,
     "metadata": {},
     "output_type": "execute_result"
    }
   ],
   "source": [
    "a.dtype"
   ]
  },
  {
   "cell_type": "code",
   "execution_count": 18,
   "id": "2ea34dcd",
   "metadata": {},
   "outputs": [
    {
     "data": {
      "text/plain": [
       "9"
      ]
     },
     "execution_count": 18,
     "metadata": {},
     "output_type": "execute_result"
    }
   ],
   "source": [
    "a.size"
   ]
  },
  {
   "cell_type": "code",
   "execution_count": 19,
   "id": "7cc84f61",
   "metadata": {},
   "outputs": [
    {
     "data": {
      "text/plain": [
       "1"
      ]
     },
     "execution_count": 19,
     "metadata": {},
     "output_type": "execute_result"
    }
   ],
   "source": [
    "a.ndim"
   ]
  },
  {
   "cell_type": "code",
   "execution_count": 20,
   "id": "5c6e0404",
   "metadata": {},
   "outputs": [
    {
     "data": {
      "text/plain": [
       "(9,)"
      ]
     },
     "execution_count": 20,
     "metadata": {},
     "output_type": "execute_result"
    }
   ],
   "source": [
    "a.shape"
   ]
  },
  {
   "cell_type": "code",
   "execution_count": null,
   "id": "276ab8d5",
   "metadata": {},
   "outputs": [],
   "source": []
  },
  {
   "cell_type": "code",
   "execution_count": 7,
   "id": "fcea72ac",
   "metadata": {},
   "outputs": [
    {
     "data": {
      "text/plain": [
       "array([1, 2, 3, 4, 5, 6, 7, 8, 9])"
      ]
     },
     "execution_count": 7,
     "metadata": {},
     "output_type": "execute_result"
    }
   ],
   "source": [
    "# a[start:stop:step]\n",
    "# start is the starting index\n",
    "# stop is stopping index\n",
    "# step is the step in between, which starts at 1\n",
    "a[::1]"
   ]
  },
  {
   "cell_type": "code",
   "execution_count": 8,
   "id": "1a998ce9",
   "metadata": {},
   "outputs": [
    {
     "data": {
      "text/plain": [
       "array([1, 3, 5, 7, 9])"
      ]
     },
     "execution_count": 8,
     "metadata": {},
     "output_type": "execute_result"
    }
   ],
   "source": [
    "a[::2] # Selecting every other element"
   ]
  },
  {
   "cell_type": "code",
   "execution_count": 17,
   "id": "59caf776",
   "metadata": {},
   "outputs": [
    {
     "data": {
      "text/plain": [
       "array([9, 8, 7, 6, 5, 4, 3, 2, 1])"
      ]
     },
     "execution_count": 17,
     "metadata": {},
     "output_type": "execute_result"
    }
   ],
   "source": [
    "# The elements are reversed, meaning it starts at the end all the way to the first element, \n",
    "# Negative indices are interpreted as counting from the end of the array\n",
    "\n",
    "a[::-1] "
   ]
  },
  {
   "cell_type": "code",
   "execution_count": 10,
   "id": "898ae6bb",
   "metadata": {},
   "outputs": [
    {
     "data": {
      "text/plain": [
       "array([7, 6, 5, 4, 3, 2, 1])"
      ]
     },
     "execution_count": 10,
     "metadata": {},
     "output_type": "execute_result"
    }
   ],
   "source": [
    "a[6::-1] # Starting at 7th element, it goes down by 1"
   ]
  },
  {
   "cell_type": "code",
   "execution_count": 11,
   "id": "878d002e",
   "metadata": {},
   "outputs": [
    {
     "data": {
      "text/plain": [
       "array([7, 8, 9])"
      ]
     },
     "execution_count": 11,
     "metadata": {},
     "output_type": "execute_result"
    }
   ],
   "source": [
    "a[-3:10] # Starting at the third last element and move up by one "
   ]
  },
  {
   "cell_type": "code",
   "execution_count": 12,
   "id": "8bdcf420",
   "metadata": {},
   "outputs": [
    {
     "data": {
      "text/plain": [
       "array([8, 7, 6])"
      ]
     },
     "execution_count": 12,
     "metadata": {},
     "output_type": "execute_result"
    }
   ],
   "source": [
    "a[-2:4:-1] # Starting at the second last element goes down by one until the fifth element(which is not included)"
   ]
  },
  {
   "cell_type": "markdown",
   "id": "be650a1b",
   "metadata": {},
   "source": [
    "### Slicing Two Dimentional Array"
   ]
  },
  {
   "cell_type": "code",
   "execution_count": 16,
   "id": "7a66400e",
   "metadata": {},
   "outputs": [
    {
     "data": {
      "text/plain": [
       "array([[1, 2, 3],\n",
       "       [4, 5, 6]])"
      ]
     },
     "execution_count": 16,
     "metadata": {},
     "output_type": "execute_result"
    }
   ],
   "source": [
    "x = np.array([[1,2,3], [4,5,6]])\n",
    "x"
   ]
  },
  {
   "cell_type": "code",
   "execution_count": null,
   "id": "a7ff7913",
   "metadata": {},
   "outputs": [],
   "source": []
  }
 ],
 "metadata": {
  "kernelspec": {
   "display_name": "Python 3",
   "language": "python",
   "name": "python3"
  },
  "language_info": {
   "codemirror_mode": {
    "name": "ipython",
    "version": 3
   },
   "file_extension": ".py",
   "mimetype": "text/x-python",
   "name": "python",
   "nbconvert_exporter": "python",
   "pygments_lexer": "ipython3",
   "version": "3.8.8"
  }
 },
 "nbformat": 4,
 "nbformat_minor": 5
}
